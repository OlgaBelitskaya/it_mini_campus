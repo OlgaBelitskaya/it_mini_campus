{
 "cells": [
  {
   "cell_type": "code",
   "execution_count": 9,
   "metadata": {},
   "outputs": [
    {
     "data": {
      "text/html": [
       "<style>\n",
       "@import url('https://fonts.googleapis.com/css?family=Orbitron');\n",
       "h1,h2 {color:#3636ff; font-size:110%; font-family:'Orbitron'; text-shadow:5px 5px 5px #aaa;}\n",
       "p,a {color:darkblue; font-size:120%; text-shadow:5px 5px 5px #aaa;}\n",
       "</style>"
      ],
      "text/plain": [
       "<IPython.core.display.HTML object>"
      ]
     },
     "metadata": {},
     "output_type": "display_data"
    }
   ],
   "source": [
    "%%html\n",
    "<style>\n",
    "@import url('https://fonts.googleapis.com/css?family=Orbitron');\n",
    "h1, h2 {color:#3636ff; font-size:110%; font-family:'Orbitron'; text-shadow:5px 5px 5px #aaa;}\n",
    "p, a {color:darkblue; font-size:120%; text-shadow:5px 5px 5px #aaa;}\n",
    "</style>"
   ]
  },
  {
   "cell_type": "markdown",
   "metadata": {},
   "source": [
    "# Simple Calculations\n",
    "Create an algorithm and a program"
   ]
  },
  {
   "cell_type": "code",
   "execution_count": 24,
   "metadata": {},
   "outputs": [
    {
     "data": {
      "text/html": [
       "<script type=\"math/tex\">x \\ {\\mapsto}\\ -{\\left| \\sin\\left(\\frac{3 \\, \\pi x}{3 \\, x + 2}\\right) \\right|} + e^{\\left(1.10000000000000 \\, x\\right)} + 1.70000000000000</script>"
      ],
      "text/plain": [
       "<script type=\"math/tex\">x \\ {\\mapsto}\\ -{\\left| \\sin\\left(\\frac{3 \\, \\pi x}{3 \\, x + 2}\\right) \\right|} + e^{\\left(1.10000000000000 \\, x\\right)} + 1.70000000000000</script>"
      ]
     },
     "metadata": {},
     "output_type": "display_data"
    },
    {
     "data": {
      "text/html": [
       "x=0.3297 ↦ f(x)=2.275"
      ],
      "text/plain": [
       "x=0.3297 ↦ f(x)=2.275"
      ]
     },
     "metadata": {},
     "output_type": "display_data"
    },
    {
     "data": {
      "text/html": [
       "<div class=\"notruncate\">\n",
       "<table  class=\"table_form\">\n",
       "<tbody>\n",
       "<tr class =\"row-a\">\n",
       "<td>x</td>\n",
       "<td>f(x)</td>\n",
       "</tr>\n",
       "<tr class =\"row-b\">\n",
       "<td><script type=\"math/tex\">0.55</script></td>\n",
       "<td><script type=\"math/tex\">2.5426</script></td>\n",
       "</tr>\n",
       "<tr class =\"row-a\">\n",
       "<td><script type=\"math/tex\">0.6</script></td>\n",
       "<td><script type=\"math/tex\">2.6382</script></td>\n",
       "</tr>\n",
       "<tr class =\"row-b\">\n",
       "<td><script type=\"math/tex\">0.65</script></td>\n",
       "<td><script type=\"math/tex\">2.7444</script></td>\n",
       "</tr>\n",
       "<tr class =\"row-a\">\n",
       "<td><script type=\"math/tex\">0.7</script></td>\n",
       "<td><script type=\"math/tex\">2.8605</script></td>\n",
       "</tr>\n",
       "<tr class =\"row-b\">\n",
       "<td><script type=\"math/tex\">0.75</script></td>\n",
       "<td><script type=\"math/tex\">2.9861</script></td>\n",
       "</tr>\n",
       "<tr class =\"row-a\">\n",
       "<td><script type=\"math/tex\">0.8</script></td>\n",
       "<td><script type=\"math/tex\">3.1211</script></td>\n",
       "</tr>\n",
       "<tr class =\"row-b\">\n",
       "<td><script type=\"math/tex\">0.85</script></td>\n",
       "<td><script type=\"math/tex\">3.2652</script></td>\n",
       "</tr>\n",
       "<tr class =\"row-a\">\n",
       "<td><script type=\"math/tex\">0.9</script></td>\n",
       "<td><script type=\"math/tex\">3.4185</script></td>\n",
       "</tr>\n",
       "<tr class =\"row-b\">\n",
       "<td><script type=\"math/tex\">0.95</script></td>\n",
       "<td><script type=\"math/tex\">3.5811</script></td>\n",
       "</tr>\n",
       "<tr class =\"row-a\">\n",
       "<td><script type=\"math/tex\">1.0</script></td>\n",
       "<td><script type=\"math/tex\">3.7531</script></td>\n",
       "</tr>\n",
       "</tbody>\n",
       "</table>\n",
       "</div>"
      ],
      "text/plain": [
       "  x      f(x)\n",
       "  0.55   2.5426\n",
       "  0.6    2.6382\n",
       "  0.65   2.7444\n",
       "  0.7    2.8605\n",
       "  0.75   2.9861\n",
       "  0.8    3.1211\n",
       "  0.85   3.2652\n",
       "  0.9    3.4185\n",
       "  0.95   3.5811\n",
       "  1.0    3.7531"
      ]
     },
     "metadata": {},
     "output_type": "display_data"
    },
    {
     "data": {
      "image/png": "[encoded data removed]",
      "text/plain": [
       "Graphics object consisting of 1 graphics primitive"
      ]
     },
     "metadata": {},
     "output_type": "display_data"
    },
    {
     "data": {
      "text/html": [
       "<script type=\"math/tex\">x \\ {\\mapsto}\\ \\sqrt{x^{-\\frac{1}{5} \\, x + \\frac{4}{5}} + x^{\\frac{4}{5}}} + \\log\\left({\\left| x - 20.5000000000000 \\right|}\\right)</script>"
      ],
      "text/plain": [
       "<script type=\"math/tex\">x \\ {\\mapsto}\\ \\sqrt{x^{-\\frac{1}{5} \\, x + \\frac{4}{5}} + x^{\\frac{4}{5}}} + \\log\\left({\\left| x - 20.5000000000000 \\right|}\\right)</script>"
      ]
     },
     "metadata": {},
     "output_type": "display_data"
    },
    {
     "data": {
      "text/html": [
       "x=0.5581 ↦ f(x)=4.1315"
      ],
      "text/plain": [
       "x=0.5581 ↦ f(x)=4.1315"
      ]
     },
     "metadata": {},
     "output_type": "display_data"
    },
    {
     "data": {
      "text/html": [
       "<div class=\"notruncate\">\n",
       "<table  class=\"table_form\">\n",
       "<tbody>\n",
       "<tr class =\"row-a\">\n",
       "<td>x</td>\n",
       "<td>f(x)</td>\n",
       "</tr>\n",
       "<tr class =\"row-b\">\n",
       "<td><script type=\"math/tex\">0.55</script></td>\n",
       "<td><script type=\"math/tex\">4.1254</script></td>\n",
       "</tr>\n",
       "<tr class =\"row-a\">\n",
       "<td><script type=\"math/tex\">0.6</script></td>\n",
       "<td><script type=\"math/tex\">4.1617</script></td>\n",
       "</tr>\n",
       "<tr class =\"row-b\">\n",
       "<td><script type=\"math/tex\">0.65</script></td>\n",
       "<td><script type=\"math/tex\">4.1956</script></td>\n",
       "</tr>\n",
       "<tr class =\"row-a\">\n",
       "<td><script type=\"math/tex\">0.7</script></td>\n",
       "<td><script type=\"math/tex\">4.2275</script></td>\n",
       "</tr>\n",
       "<tr class =\"row-b\">\n",
       "<td><script type=\"math/tex\">0.75</script></td>\n",
       "<td><script type=\"math/tex\">4.2575</script></td>\n",
       "</tr>\n",
       "<tr class =\"row-a\">\n",
       "<td><script type=\"math/tex\">0.8</script></td>\n",
       "<td><script type=\"math/tex\">4.2858</script></td>\n",
       "</tr>\n",
       "<tr class =\"row-b\">\n",
       "<td><script type=\"math/tex\">0.85</script></td>\n",
       "<td><script type=\"math/tex\">4.3125</script></td>\n",
       "</tr>\n",
       "<tr class =\"row-a\">\n",
       "<td><script type=\"math/tex\">0.9</script></td>\n",
       "<td><script type=\"math/tex\">4.3379</script></td>\n",
       "</tr>\n",
       "<tr class =\"row-b\">\n",
       "<td><script type=\"math/tex\">0.95</script></td>\n",
       "<td><script type=\"math/tex\">4.3619</script></td>\n",
       "</tr>\n",
       "<tr class =\"row-a\">\n",
       "<td><script type=\"math/tex\">1.0</script></td>\n",
       "<td><script type=\"math/tex\">4.3846</script></td>\n",
       "</tr>\n",
       "</tbody>\n",
       "</table>\n",
       "</div>"
      ],
      "text/plain": [
       "  x      f(x)\n",
       "  0.55   4.1254\n",
       "  0.6    4.1617\n",
       "  0.65   4.1956\n",
       "  0.7    4.2275\n",
       "  0.75   4.2575\n",
       "  0.8    4.2858\n",
       "  0.85   4.3125\n",
       "  0.9    4.3379\n",
       "  0.95   4.3619\n",
       "  1.0    4.3846"
      ]
     },
     "metadata": {},
     "output_type": "display_data"
    },
    {
     "data": {
      "image/png": "[encoded data removed]",
      "text/plain": [
       "Graphics object consisting of 1 graphics primitive"
      ]
     },
     "metadata": {},
     "output_type": "display_data"
    },
    {
     "data": {
      "text/html": [
       "<script type=\"math/tex\">x \\ {\\mapsto}\\ \\frac{1}{7} \\, {\\left(7 \\, \\log\\left(\\sqrt{x}\\right) + 1\\right)} e^{\\left(\\sqrt{x - 2}\\right)}</script>"
      ],
      "text/plain": [
       "<script type=\"math/tex\">x \\ {\\mapsto}\\ \\frac{1}{7} \\, {\\left(7 \\, \\log\\left(\\sqrt{x}\\right) + 1\\right)} e^{\\left(\\sqrt{x - 2}\\right)}</script>"
      ]
     },
     "metadata": {},
     "output_type": "display_data"
    },
    {
     "data": {
      "text/html": [
       "x=0.3952 ↦ f(x)=NaN"
      ],
      "text/plain": [
       "x=0.3952 ↦ f(x)=NaN"
      ]
     },
     "metadata": {},
     "output_type": "display_data"
    },
    {
     "data": {
      "text/html": [
       "<div class=\"notruncate\">\n",
       "<table  class=\"table_form\">\n",
       "<tbody>\n",
       "<tr class =\"row-a\">\n",
       "<td>x</td>\n",
       "<td>f(x)</td>\n",
       "</tr>\n",
       "<tr class =\"row-b\">\n",
       "<td><script type=\"math/tex\">0.55</script></td>\n",
       "<td><script type=\"math/tex\">NaN</script></td>\n",
       "</tr>\n",
       "<tr class =\"row-a\">\n",
       "<td><script type=\"math/tex\">0.6</script></td>\n",
       "<td><script type=\"math/tex\">NaN</script></td>\n",
       "</tr>\n",
       "<tr class =\"row-b\">\n",
       "<td><script type=\"math/tex\">0.65</script></td>\n",
       "<td><script type=\"math/tex\">NaN</script></td>\n",
       "</tr>\n",
       "<tr class =\"row-a\">\n",
       "<td><script type=\"math/tex\">0.7</script></td>\n",
       "<td><script type=\"math/tex\">NaN</script></td>\n",
       "</tr>\n",
       "<tr class =\"row-b\">\n",
       "<td><script type=\"math/tex\">0.75</script></td>\n",
       "<td><script type=\"math/tex\">NaN</script></td>\n",
       "</tr>\n",
       "<tr class =\"row-a\">\n",
       "<td><script type=\"math/tex\">0.8</script></td>\n",
       "<td><script type=\"math/tex\">NaN</script></td>\n",
       "</tr>\n",
       "<tr class =\"row-b\">\n",
       "<td><script type=\"math/tex\">0.85</script></td>\n",
       "<td><script type=\"math/tex\">NaN</script></td>\n",
       "</tr>\n",
       "<tr class =\"row-a\">\n",
       "<td><script type=\"math/tex\">0.9</script></td>\n",
       "<td><script type=\"math/tex\">NaN</script></td>\n",
       "</tr>\n",
       "<tr class =\"row-b\">\n",
       "<td><script type=\"math/tex\">0.95</script></td>\n",
       "<td><script type=\"math/tex\">NaN</script></td>\n",
       "</tr>\n",
       "<tr class =\"row-a\">\n",
       "<td><script type=\"math/tex\">1.0</script></td>\n",
       "<td><script type=\"math/tex\">NaN</script></td>\n",
       "</tr>\n",
       "</tbody>\n",
       "</table>\n",
       "</div>"
      ],
      "text/plain": [
       "  x      f(x)\n",
       "  0.55   NaN\n",
       "  0.6    NaN\n",
       "  0.65   NaN\n",
       "  0.7    NaN\n",
       "  0.75   NaN\n",
       "  0.8    NaN\n",
       "  0.85   NaN\n",
       "  0.9    NaN\n",
       "  0.95   NaN\n",
       "  1.0    NaN"
      ]
     },
     "metadata": {},
     "output_type": "display_data"
    }
   ],
   "source": [
    "var('x'); A,B,N=.55,1,10; X1,X2=1000,6000\n",
    "def F(f,x,a,b): \n",
    "    try: return round(f(x),4)\n",
    "    except: return NaN\n",
    "    if a>=b: return NaN\n",
    "def create_table(f,a,b,n):\n",
    "    d=(b-a)/(n-1); x0=randint(X1,X2)*.1^4    \n",
    "    t=[[round(x,4),F(f,x,a,b)] for x in srange(a,b+d,d)]\n",
    "    pretty_print(html(latex(f)))\n",
    "    pretty_print(html('x=%.4f ↦ f(x)=%s'%(x0,F(f,x0,a,b))))\n",
    "    show(table([['x','f(x)']]+t))\n",
    "    return t\n",
    "def create_plottable(f,a,b,n): \n",
    "    t=create_table(f,a,b,n)\n",
    "    list_plot(t).show(gridlines=True,figsize=4)\n",
    "f1(x)=sqrt(exp(2.2*x))-abs(sin(pi*x/(x+2/3)))+1.7\n",
    "f2(x)=sqrt(x^(4/5)+x^((4-x)/5))+log(abs(x-20.5))\n",
    "f3(x)=(1/7+log(sqrt(x)))*exp(sqrt((x+0j)-2))\n",
    "for f in [f1,f2]: create_plottable(f,A,B,N) \n",
    "create_table(f3,A,B,N);"
   ]
  },
  {
   "cell_type": "code",
   "execution_count": 25,
   "metadata": {},
   "outputs": [
    {
     "data": {
      "text/html": [
       "<script type=\"math/tex\">x \\ {\\mapsto}\\ \\frac{2^{\\frac{1}{3}}}{x^{\\frac{1}{3}}} + \\frac{\\log\\left(\\sqrt{{\\left| x - 2 \\right|}} + 1.20000000000000\\right)}{e^{x} + 2}</script>"
      ],
      "text/plain": [
       "<script type=\"math/tex\">x \\ {\\mapsto}\\ \\frac{2^{\\frac{1}{3}}}{x^{\\frac{1}{3}}} + \\frac{\\log\\left(\\sqrt{{\\left| x - 2 \\right|}} + 1.20000000000000\\right)}{e^{x} + 2}</script>"
      ]
     },
     "metadata": {},
     "output_type": "display_data"
    },
    {
     "data": {
      "text/html": [
       "x=0.3449 ↦ f(x)=2.0636"
      ],
      "text/plain": [
       "x=0.3449 ↦ f(x)=2.0636"
      ]
     },
     "metadata": {},
     "output_type": "display_data"
    },
    {
     "data": {
      "text/html": [
       "<div class=\"notruncate\">\n",
       "<table  class=\"table_form\">\n",
       "<tbody>\n",
       "<tr class =\"row-a\">\n",
       "<td>x</td>\n",
       "<td>f(x)</td>\n",
       "</tr>\n",
       "<tr class =\"row-b\">\n",
       "<td><script type=\"math/tex\">0.55</script></td>\n",
       "<td><script type=\"math/tex\">1.7727</script></td>\n",
       "</tr>\n",
       "<tr class =\"row-a\">\n",
       "<td><script type=\"math/tex\">0.6</script></td>\n",
       "<td><script type=\"math/tex\">1.721</script></td>\n",
       "</tr>\n",
       "<tr class =\"row-b\">\n",
       "<td><script type=\"math/tex\">0.65</script></td>\n",
       "<td><script type=\"math/tex\">1.674</script></td>\n",
       "</tr>\n",
       "<tr class =\"row-a\">\n",
       "<td><script type=\"math/tex\">0.7</script></td>\n",
       "<td><script type=\"math/tex\">1.6308</script></td>\n",
       "</tr>\n",
       "<tr class =\"row-b\">\n",
       "<td><script type=\"math/tex\">0.75</script></td>\n",
       "<td><script type=\"math/tex\">1.5909</script></td>\n",
       "</tr>\n",
       "<tr class =\"row-a\">\n",
       "<td><script type=\"math/tex\">0.8</script></td>\n",
       "<td><script type=\"math/tex\">1.5539</script></td>\n",
       "</tr>\n",
       "<tr class =\"row-b\">\n",
       "<td><script type=\"math/tex\">0.85</script></td>\n",
       "<td><script type=\"math/tex\">1.5192</script></td>\n",
       "</tr>\n",
       "<tr class =\"row-a\">\n",
       "<td><script type=\"math/tex\">0.9</script></td>\n",
       "<td><script type=\"math/tex\">1.4867</script></td>\n",
       "</tr>\n",
       "<tr class =\"row-b\">\n",
       "<td><script type=\"math/tex\">0.95</script></td>\n",
       "<td><script type=\"math/tex\">1.456</script></td>\n",
       "</tr>\n",
       "<tr class =\"row-a\">\n",
       "<td><script type=\"math/tex\">1.0</script></td>\n",
       "<td><script type=\"math/tex\">1.427</script></td>\n",
       "</tr>\n",
       "</tbody>\n",
       "</table>\n",
       "</div>"
      ],
      "text/plain": [
       "  x      f(x)\n",
       "  0.55   1.7727\n",
       "  0.6    1.721\n",
       "  0.65   1.674\n",
       "  0.7    1.6308\n",
       "  0.75   1.5909\n",
       "  0.8    1.5539\n",
       "  0.85   1.5192\n",
       "  0.9    1.4867\n",
       "  0.95   1.456\n",
       "  1.0    1.427"
      ]
     },
     "metadata": {},
     "output_type": "display_data"
    },
    {
     "data": {
      "image/png": "[encoded data removed]",
      "text/plain": [
       "Graphics object consisting of 1 graphics primitive"
      ]
     },
     "metadata": {},
     "output_type": "display_data"
    },
    {
     "data": {
      "text/html": [
       "<script type=\"math/tex\">x \\ {\\mapsto}\\ \\frac{1}{3} \\, \\sqrt{{\\left| \\sin\\left(x\\right) \\right|}} e^{\\left(0.0400000000000000 \\, x\\right)}</script>"
      ],
      "text/plain": [
       "<script type=\"math/tex\">x \\ {\\mapsto}\\ \\frac{1}{3} \\, \\sqrt{{\\left| \\sin\\left(x\\right) \\right|}} e^{\\left(0.0400000000000000 \\, x\\right)}</script>"
      ]
     },
     "metadata": {},
     "output_type": "display_data"
    },
    {
     "data": {
      "text/html": [
       "x=0.1879 ↦ f(x)=0.1452"
      ],
      "text/plain": [
       "x=0.1879 ↦ f(x)=0.1452"
      ]
     },
     "metadata": {},
     "output_type": "display_data"
    },
    {
     "data": {
      "text/html": [
       "<div class=\"notruncate\">\n",
       "<table  class=\"table_form\">\n",
       "<tbody>\n",
       "<tr class =\"row-a\">\n",
       "<td>x</td>\n",
       "<td>f(x)</td>\n",
       "</tr>\n",
       "<tr class =\"row-b\">\n",
       "<td><script type=\"math/tex\">0.55</script></td>\n",
       "<td><script type=\"math/tex\">0.2464</script></td>\n",
       "</tr>\n",
       "<tr class =\"row-a\">\n",
       "<td><script type=\"math/tex\">0.6</script></td>\n",
       "<td><script type=\"math/tex\">0.2566</script></td>\n",
       "</tr>\n",
       "<tr class =\"row-b\">\n",
       "<td><script type=\"math/tex\">0.65</script></td>\n",
       "<td><script type=\"math/tex\">0.2661</script></td>\n",
       "</tr>\n",
       "<tr class =\"row-a\">\n",
       "<td><script type=\"math/tex\">0.7</script></td>\n",
       "<td><script type=\"math/tex\">0.2751</script></td>\n",
       "</tr>\n",
       "<tr class =\"row-b\">\n",
       "<td><script type=\"math/tex\">0.75</script></td>\n",
       "<td><script type=\"math/tex\">0.2836</script></td>\n",
       "</tr>\n",
       "<tr class =\"row-a\">\n",
       "<td><script type=\"math/tex\">0.8</script></td>\n",
       "<td><script type=\"math/tex\">0.2915</script></td>\n",
       "</tr>\n",
       "<tr class =\"row-b\">\n",
       "<td><script type=\"math/tex\">0.85</script></td>\n",
       "<td><script type=\"math/tex\">0.2989</script></td>\n",
       "</tr>\n",
       "<tr class =\"row-a\">\n",
       "<td><script type=\"math/tex\">0.9</script></td>\n",
       "<td><script type=\"math/tex\">0.3058</script></td>\n",
       "</tr>\n",
       "<tr class =\"row-b\">\n",
       "<td><script type=\"math/tex\">0.95</script></td>\n",
       "<td><script type=\"math/tex\">0.3123</script></td>\n",
       "</tr>\n",
       "<tr class =\"row-a\">\n",
       "<td><script type=\"math/tex\">1.0</script></td>\n",
       "<td><script type=\"math/tex\">0.3183</script></td>\n",
       "</tr>\n",
       "</tbody>\n",
       "</table>\n",
       "</div>"
      ],
      "text/plain": [
       "  x      f(x)\n",
       "  0.55   0.2464\n",
       "  0.6    0.2566\n",
       "  0.65   0.2661\n",
       "  0.7    0.2751\n",
       "  0.75   0.2836\n",
       "  0.8    0.2915\n",
       "  0.85   0.2989\n",
       "  0.9    0.3058\n",
       "  0.95   0.3123\n",
       "  1.0    0.3183"
      ]
     },
     "metadata": {},
     "output_type": "display_data"
    },
    {
     "data": {
      "image/png": "[encoded data removed]",
      "text/plain": [
       "Graphics object consisting of 1 graphics primitive"
      ]
     },
     "metadata": {},
     "output_type": "display_data"
    }
   ],
   "source": [
    "f11(x)=log(sqrt(abs(x-2))+1.2)/(2+exp(x))+(2/x)^(1/3)\n",
    "f12(x)=sqrt(abs(sin(x)))*(exp(.12*x))^(1/3)/3\n",
    "for f in [f11,f12]: create_plottable(f,A,B,N)"
   ]
  },
  {
   "cell_type": "code",
   "execution_count": 26,
   "metadata": {},
   "outputs": [
    {
     "data": {
      "text/html": [
       "<script type=\"math/tex\">x \\ {\\mapsto}\\ \\frac{{\\left(x^{\\frac{1}{5}} + \\sin\\left(\\frac{1}{2} \\, \\pi x\\right)\\right)} e^{\\left(-\\sqrt{x}\\right)}}{\\sqrt{{\\left| \\cos\\left(\\pi x\\right) + 1 \\right|}}}</script>"
      ],
      "text/plain": [
       "<script type=\"math/tex\">x \\ {\\mapsto}\\ \\frac{{\\left(x^{\\frac{1}{5}} + \\sin\\left(\\frac{1}{2} \\, \\pi x\\right)\\right)} e^{\\left(-\\sqrt{x}\\right)}}{\\sqrt{{\\left| \\cos\\left(\\pi x\\right) + 1 \\right|}}}</script>"
      ]
     },
     "metadata": {},
     "output_type": "display_data"
    },
    {
     "data": {
      "text/html": [
       "x=0.2365 ↦ f(x)=0.5191"
      ],
      "text/plain": [
       "x=0.2365 ↦ f(x)=0.5191"
      ]
     },
     "metadata": {},
     "output_type": "display_data"
    },
    {
     "data": {
      "text/html": [
       "<div class=\"notruncate\">\n",
       "<table  class=\"table_form\">\n",
       "<tbody>\n",
       "<tr class =\"row-a\">\n",
       "<td>x</td>\n",
       "<td>f(x)</td>\n",
       "</tr>\n",
       "<tr class =\"row-b\">\n",
       "<td><script type=\"math/tex\">0.55</script></td>\n",
       "<td><script type=\"math/tex\">0.8546</script></td>\n",
       "</tr>\n",
       "<tr class =\"row-a\">\n",
       "<td><script type=\"math/tex\">0.6</script></td>\n",
       "<td><script type=\"math/tex\">0.9492</script></td>\n",
       "</tr>\n",
       "<tr class =\"row-b\">\n",
       "<td><script type=\"math/tex\">0.65</script></td>\n",
       "<td><script type=\"math/tex\">1.0697</script></td>\n",
       "</tr>\n",
       "<tr class =\"row-a\">\n",
       "<td><script type=\"math/tex\">0.7</script></td>\n",
       "<td><script type=\"math/tex\">1.2293</script></td>\n",
       "</tr>\n",
       "<tr class =\"row-b\">\n",
       "<td><script type=\"math/tex\">0.75</script></td>\n",
       "<td><script type=\"math/tex\">1.4518</script></td>\n",
       "</tr>\n",
       "<tr class =\"row-a\">\n",
       "<td><script type=\"math/tex\">0.8</script></td>\n",
       "<td><script type=\"math/tex\">1.7844</script></td>\n",
       "</tr>\n",
       "<tr class =\"row-b\">\n",
       "<td><script type=\"math/tex\">0.85</script></td>\n",
       "<td><script type=\"math/tex\">2.3377</script></td>\n",
       "</tr>\n",
       "<tr class =\"row-a\">\n",
       "<td><script type=\"math/tex\">0.9</script></td>\n",
       "<td><script type=\"math/tex\">3.4428</script></td>\n",
       "</tr>\n",
       "<tr class =\"row-b\">\n",
       "<td><script type=\"math/tex\">0.95</script></td>\n",
       "<td><script type=\"math/tex\">6.7558</script></td>\n",
       "</tr>\n",
       "<tr class =\"row-a\">\n",
       "<td><script type=\"math/tex\">1.0</script></td>\n",
       "<td><script type=\"math/tex\">NaN</script></td>\n",
       "</tr>\n",
       "</tbody>\n",
       "</table>\n",
       "</div>"
      ],
      "text/plain": [
       "  x      f(x)\n",
       "  0.55   0.8546\n",
       "  0.6    0.9492\n",
       "  0.65   1.0697\n",
       "  0.7    1.2293\n",
       "  0.75   1.4518\n",
       "  0.8    1.7844\n",
       "  0.85   2.3377\n",
       "  0.9    3.4428\n",
       "  0.95   6.7558\n",
       "  1.0    NaN"
      ]
     },
     "metadata": {},
     "output_type": "display_data"
    },
    {
     "data": {
      "image/png": "[encoded data removed]",
      "text/plain": [
       "Graphics object consisting of 1 graphics primitive"
      ]
     },
     "metadata": {},
     "output_type": "display_data"
    }
   ],
   "source": [
    "f21(x)=(sin(x*pi/2)+x^(1/5))/(sqrt(abs(cos(pi*x)+1))*exp(sqrt(x)))\n",
    "create_plottable(f21,A,B,N)"
   ]
  },
  {
   "cell_type": "markdown",
   "metadata": {},
   "source": [
    "[IT_LabWork1_20192020](https://docs.google.com/document/d/15g3Hm42l0WJaqMxwerUl2HWQxJFOpKgrvaEuuURwWLo/edit?usp=sharing)"
   ]
  }
 ],
 "metadata": {
  "kernelspec": {
   "display_name": "SageMath 8.8",
   "language": "sage",
   "name": "sagemath"
  },
  "language_info": {
   "codemirror_mode": {
    "name": "ipython",
    "version": 2
   },
   "file_extension": ".py",
   "mimetype": "text/x-python",
   "name": "python",
   "nbconvert_exporter": "python",
   "pygments_lexer": "ipython2",
   "version": "2.7.15"
  }
 },
 "nbformat": 4,
 "nbformat_minor": 2
}
