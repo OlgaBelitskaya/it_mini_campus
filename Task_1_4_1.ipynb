{
 "cells": [
  {
   "cell_type": "code",
   "execution_count": 1,
   "metadata": {},
   "outputs": [
    {
     "data": {
      "text/html": [
       "<style>\n",
       "@import url('https://fonts.googleapis.com/css?family=Orbitron');\n",
       "h1, h2 {color:#3636ff; font-size:110%; font-family:'Orbitron'; text-shadow:5px 5px 5px #aaa;}\n",
       "p, a {color:darkblue; font-size:120%; text-shadow:5px 5px 5px #aaa;}\n",
       "</style>"
      ],
      "text/plain": [
       "<IPython.core.display.HTML object>"
      ]
     },
     "metadata": {},
     "output_type": "display_data"
    }
   ],
   "source": [
    "%%html\n",
    "<style>\n",
    "@import url('https://fonts.googleapis.com/css?family=Orbitron');\n",
    "h1, h2 {color:#3636ff; font-size:110%; font-family:'Orbitron'; text-shadow:5px 5px 5px #aaa;}\n",
    "p, a {color:darkblue; font-size:120%; text-shadow:5px 5px 5px #aaa;}\n",
    "</style>"
   ]
  },
  {
   "cell_type": "markdown",
   "metadata": {},
   "source": [
    "# Processing of One-Dimensional Arrays by One Cycle\n",
    "Create an algorithm and a program"
   ]
  },
  {
   "cell_type": "code",
   "execution_count": 3,
   "metadata": {},
   "outputs": [
    {
     "data": {
      "text/html": [
       "<div class=\"notruncate\">\n",
       "<table  class=\"table_form\">\n",
       "<tbody>\n",
       "<tr class =\"row-a\">\n",
       "<td>[ 17, 55, 74, 77, 10, 18, 4, 90, 24, 77, 27 ]</td>\n",
       "<td>=></td>\n",
       "<td>[ 935, 1258, 1309, 170, 306, 68, 1530, 408, 1309, 459 ]</td>\n",
       "</tr>\n",
       "</tbody>\n",
       "</table>\n",
       "</div>"
      ],
      "text/plain": [
       "  [ 17, 55, 74, 77, 10, 18, 4, 90, 24, 77, 27 ]   =>   [ 935, 1258, 1309, 170, 306, 68, 1530, 408, 1309, 459 ]"
      ]
     },
     "execution_count": 3,
     "metadata": {},
     "output_type": "execute_result"
    }
   ],
   "source": [
    "#20\n",
    "X=[randint(1,99) for i in [0..10]]\n",
    "Y=[X[0]*X[i] for i in [1..len(X)-1]]\n",
    "table([[html(ascii_art(X)),'=>',html(ascii_art(Y))]])"
   ]
  },
  {
   "cell_type": "code",
   "execution_count": 29,
   "metadata": {},
   "outputs": [
    {
     "data": {
      "text/html": [
       "<div class=\"notruncate\">\n",
       "<table  class=\"table_form\">\n",
       "<tbody>\n",
       "<tr class =\"row-a\">\n",
       "<td>string summation</td>\n",
       "</tr>\n",
       "<tr class =\"row-b\">\n",
       "<td>[ ♔, ♕, ♖, ♗, ♘, ♙ ]</td>\n",
       "<td> => </td>\n",
       "<td>[ ♔, ♔♕, ♔♕♖, ♔♕♖♗, ♔♕♖♗♘, ♔♕♖♗♘♙ ]</td>\n",
       "</tr>\n",
       "<tr class =\"row-a\">\n",
       "<td>number summation</td>\n",
       "</tr>\n",
       "<tr class =\"row-b\">\n",
       "<td><script type=\"math/tex\">\\left[2, 78, 77, 40, 28, 5, 45, 76, 4, 64, 52\\right]</script></td>\n",
       "<td>=></td>\n",
       "<td><script type=\"math/tex\">\\left[2, 80, 157, 197, 225, 230, 275, 351, 355, 419, 471\\right]</script></td>\n",
       "</tr>\n",
       "</tbody>\n",
       "</table>\n",
       "</div>"
      ],
      "text/plain": [
       "  string summation\n",
       "  [ ♔, ♕, ♖, ♗, ♘, ♙ ]\n",
       "  number summation\n",
       "  [2, 78, 77, 40, 28, 5, 45, 76, 4, 64, 52]"
      ]
     },
     "execution_count": 29,
     "metadata": {},
     "output_type": "execute_result"
    }
   ],
   "source": [
    "#21\n",
    "def sum_arr(X):\n",
    "    T=[X[0]]\n",
    "    for i in [1..len(X)-1]: T.append(T[i-1]+X[i])\n",
    "    return T\n",
    "X1=[\"♔\",\"♕\",\"♖\",\"♗\",\"♘\",\"♙\"]; X2=[randint(1,99) for i in [0..10]]\n",
    "t=[['string summation'],[html(ascii_art(X1)),' => ',html(ascii_art(sum_arr(X1)))]]; \n",
    "t+=[['number summation'],[X2,'=>',sum_arr(X2)]]\n",
    "table(t)"
   ]
  },
  {
   "cell_type": "code",
   "execution_count": 4,
   "metadata": {},
   "outputs": [
    {
     "data": {
      "text/html": [
       "<html><script type=\"math/tex; mode=display\">\\newcommand{\\Bold}[1]{\\mathbf{#1}}\\verb|radiuses:|\\phantom{\\verb!x!}\\verb|[49.24,|\\phantom{\\verb!x!}\\verb|424.71,|\\phantom{\\verb!x!}\\verb|255.39,|\\phantom{\\verb!x!}\\verb|317.42,|\\phantom{\\verb!x!}\\verb|674.67,|\\phantom{\\verb!x!}\\verb|619.73,|\\phantom{\\verb!x!}\\verb|918.6,|\\phantom{\\verb!x!}\\verb|268.26,|\\phantom{\\verb!x!}\\verb|959.0,|\\phantom{\\verb!x!}\\verb|818.4,|\\phantom{\\verb!x!}\\verb|332.9]|</script></html>"
      ],
      "text/plain": [
       "'radiuses: [49.24, 424.71, 255.39, 317.42, 674.67, 619.73, 918.6, 268.26, 959.0, 818.4, 332.9]'"
      ]
     },
     "metadata": {},
     "output_type": "display_data"
    },
    {
     "data": {
      "text/html": [
       "<html><script type=\"math/tex; mode=display\">\\newcommand{\\Bold}[1]{\\mathbf{#1}}\\verb|heights:|\\phantom{\\verb!x!}\\verb|[53.14,|\\phantom{\\verb!x!}\\verb|802.4,|\\phantom{\\verb!x!}\\verb|435.0,|\\phantom{\\verb!x!}\\verb|450.5,|\\phantom{\\verb!x!}\\verb|301.28,|\\phantom{\\verb!x!}\\verb|436.36,|\\phantom{\\verb!x!}\\verb|287.79,|\\phantom{\\verb!x!}\\verb|280.75,|\\phantom{\\verb!x!}\\verb|156.83,|\\phantom{\\verb!x!}\\verb|1285.57]|</script></html>"
      ],
      "text/plain": [
       "'heights: [53.14, 802.4, 435.0, 450.5, 301.28, 436.36, 287.79, 280.75, 156.83, 1285.57]'"
      ]
     },
     "metadata": {},
     "output_type": "display_data"
    },
    {
     "data": {
      "text/html": [
       "<html><script type=\"math/tex; mode=display\">\\newcommand{\\Bold}[1]{\\mathbf{#1}}\\verb|volume:|\\phantom{\\verb!x!}\\verb|3289699965.6175|</script></html>"
      ],
      "text/plain": [
       "'volume: 3289699965.6175'"
      ]
     },
     "metadata": {},
     "output_type": "display_data"
    }
   ],
   "source": [
    "#22\n",
    "V=0; N=10; R=[round(random()*1000,2) for i in [0..N]]\n",
    "H=[round(2*random()*R[i],2) for i in [0..N-1]]\n",
    "for i in [0..N-1]: V+=pi*H[i]^2*(R[i]-H[i]/3)\n",
    "pretty_print('radiuses: %s'%str(R))\n",
    "pretty_print('heights: %s'%str(H))\n",
    "pretty_print('volume: %.4f'%V)"
   ]
  }
 ],
 "metadata": {
  "kernelspec": {
   "display_name": "SageMath 8.8",
   "language": "sage",
   "name": "sagemath"
  },
  "language_info": {
   "codemirror_mode": {
    "name": "ipython",
    "version": 2
   },
   "file_extension": ".py",
   "mimetype": "text/x-python",
   "name": "python",
   "nbconvert_exporter": "python",
   "pygments_lexer": "ipython2",
   "version": "2.7.15"
  }
 },
 "nbformat": 4,
 "nbformat_minor": 2
}
