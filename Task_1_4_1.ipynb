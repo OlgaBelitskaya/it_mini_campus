{
 "cells": [
  {
   "cell_type": "code",
   "execution_count": 1,
   "metadata": {},
   "outputs": [
    {
     "data": {
      "text/html": [
       "<style>\n",
       "@import url('https://fonts.googleapis.com/css?family=Orbitron');\n",
       "h1, h2 {color:#3636ff; font-size:110%; font-family:'Orbitron'; text-shadow:5px 5px 5px #aaa;}\n",
       "p, a {color:darkblue; font-size:120%; text-shadow:5px 5px 5px #aaa;}\n",
       "</style>"
      ],
      "text/plain": [
       "<IPython.core.display.HTML object>"
      ]
     },
     "metadata": {},
     "output_type": "display_data"
    }
   ],
   "source": [
    "%%html\n",
    "<style>\n",
    "@import url('https://fonts.googleapis.com/css?family=Orbitron');\n",
    "h1, h2 {color:#3636ff; font-size:110%; font-family:'Orbitron'; text-shadow:5px 5px 5px #aaa;}\n",
    "p, a {color:darkblue; font-size:120%; text-shadow:5px 5px 5px #aaa;}\n",
    "</style>"
   ]
  },
  {
   "cell_type": "markdown",
   "metadata": {},
   "source": [
    "# Processing of One-Dimensional Arrays by One Cycle\n",
    "Create an algorithm and a program"
   ]
  },
  {
   "cell_type": "code",
   "execution_count": 3,
   "metadata": {},
   "outputs": [
    {
     "data": {
      "text/html": [
       "<div class=\"notruncate\">\n",
       "<table  class=\"table_form\">\n",
       "<tbody>\n",
       "<tr class =\"row-a\">\n",
       "<td>[ 17, 55, 74, 77, 10, 18, 4, 90, 24, 77, 27 ]</td>\n",
       "<td>=></td>\n",
       "<td>[ 935, 1258, 1309, 170, 306, 68, 1530, 408, 1309, 459 ]</td>\n",
       "</tr>\n",
       "</tbody>\n",
       "</table>\n",
       "</div>"
      ],
      "text/plain": [
       "  [ 17, 55, 74, 77, 10, 18, 4, 90, 24, 77, 27 ]   =>   [ 935, 1258, 1309, 170, 306, 68, 1530, 408, 1309, 459 ]"
      ]
     },
     "execution_count": 3,
     "metadata": {},
     "output_type": "execute_result"
    }
   ],
   "source": [
    "#20\n",
    "X=[randint(1,99) for i in [0..10]]\n",
    "Y=[X[0]*X[i] for i in [1..len(X)-1]]\n",
    "table([[html(ascii_art(X)),'=>',html(ascii_art(Y))]])"
   ]
  },
  {
   "cell_type": "code",
   "execution_count": 22,
   "metadata": {},
   "outputs": [
    {
     "data": {
      "text/html": [
       "<div class=\"notruncate\">\n",
       "<table  class=\"table_form\">\n",
       "<tbody>\n",
       "<tr class =\"row-a\">\n",
       "<td>string summation</td>\n",
       "</tr>\n",
       "<tr class =\"row-b\">\n",
       "<td>[ ♔, ♕, ♖, ♗, ♘, ♙ ]</td>\n",
       "<td> => </td>\n",
       "<td>[ ♔, ♔♕, ♔♕♖, ♔♕♖♗, ♔♕♖♗♘, ♔♕♖♗♘♙ ]</td>\n",
       "</tr>\n",
       "<tr class =\"row-a\">\n",
       "<td>number summation</td>\n",
       "</tr>\n",
       "<tr class =\"row-b\">\n",
       "<td>[ 49, 15, 88, 39, 86, 23, 21, 4, 32, 28, 75 ]</td>\n",
       "<td>=></td>\n",
       "<td>[ 49, 64, 152, 191, 277, 300, 321, 325, 357, 385, 460 ]</td>\n",
       "</tr>\n",
       "</tbody>\n",
       "</table>\n",
       "</div>"
      ],
      "text/plain": [
       "  string summation\n",
       "  [ ♔, ♕, ♖, ♗, ♘, ♙ ]\n",
       "  number summation\n",
       "  [ 49, 15, 88, 39, 86, 23, 21, 4, 32, 28, 75 ]"
      ]
     },
     "execution_count": 22,
     "metadata": {},
     "output_type": "execute_result"
    }
   ],
   "source": [
    "#21\n",
    "def sum_arr(X):\n",
    "    T=[X[0]]\n",
    "    for i in [1..len(X)-1]: T.append(T[i-1]+X[i])\n",
    "    return T\n",
    "X1=[\"♔\",\"♕\",\"♖\",\"♗\",\"♘\",\"♙\"]; X2=[randint(1,99) for i in [0..10]]\n",
    "t=[['string summation'],[html(ascii_art(X1)),' => ',html(ascii_art(sum_arr(X1)))]]; \n",
    "t+=[['number summation'],[html(ascii_art(X2)),'=>',html(ascii_art(sum_arr(X2)))]]\n",
    "table(t)"
   ]
  },
  {
   "cell_type": "code",
   "execution_count": 25,
   "metadata": {},
   "outputs": [
    {
     "data": {
      "text/html": [
       "<div class=\"notruncate\">\n",
       "<table  class=\"table_form\">\n",
       "<tbody>\n",
       "<tr class =\"row-a\">\n",
       "<td>radiuses</td>\n",
       "<td><script type=\"math/tex\">\\left[545.87, 349.62, 885.5, 606.92, 289.91, 865.11, 522.95, 471.75, 258.28, 536.0, 134.87\\right]</script></td>\n",
       "</tr>\n",
       "<tr class =\"row-b\">\n",
       "<td>heights</td>\n",
       "<td><script type=\"math/tex\">\\left[331.05, 417.56, 739.94, 527.49, 474.26, 394.99, 155.25, 527.47, 317.86, 215.5\\right]</script></td>\n",
       "</tr>\n",
       "<tr class =\"row-a\">\n",
       "<td>volume</td>\n",
       "<td><script type=\"math/tex\">\\left[828866914.3676798 \\, \\pi, 2.60396220898114 \\times 10^{9}\\right]</script></td>\n",
       "</tr>\n",
       "</tbody>\n",
       "</table>\n",
       "</div>"
      ],
      "text/plain": [
       "  radiuses   <script type=\"math/tex\">\\left[545.87, 349.62, 885.5, 606.92, 289.91, 865.11, 522.95, 471.75, 258.28, 536.0, 134.87\\right]</script>\n",
       "  heights    <script type=\"math/tex\">\\left[331.05, 417.56, 739.94, 527.49, 474.26, 394.99, 155.25, 527.47, 317.86, 215.5\\right]</script>\n",
       "  volume     <script type=\"math/tex\">\\left[828866914.3676798 \\, \\pi, 2.60396220898114 \\times 10^{9}\\right]</script>"
      ]
     },
     "metadata": {},
     "output_type": "display_data"
    }
   ],
   "source": [
    "#22\n",
    "V=0; N=10; R=[round(random()*1000,2) for i in [0..N]]\n",
    "H=[round(2*random()*R[i],2) for i in [0..N-1]]\n",
    "for i in [0..N-1]: V+=pi*H[i]^2*(R[i]-H[i]/3)\n",
    "t=[['radiuses',R],['heights',H],['volume',[V,V.n()]]]\n",
    "t=[[t[i][0],html(ascii_art('$%s$'%latex(t[i][1])))] for i in range(3)]\n",
    "show(table(t))"
   ]
  }
 ],
 "metadata": {
  "kernelspec": {
   "display_name": "SageMath 8.8",
   "language": "sage",
   "name": "sagemath"
  },
  "language_info": {
   "codemirror_mode": {
    "name": "ipython",
    "version": 2
   },
   "file_extension": ".py",
   "mimetype": "text/x-python",
   "name": "python",
   "nbconvert_exporter": "python",
   "pygments_lexer": "ipython2",
   "version": "2.7.15"
  }
 },
 "nbformat": 4,
 "nbformat_minor": 2
}
