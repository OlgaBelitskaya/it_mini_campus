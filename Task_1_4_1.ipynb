{
 "cells": [
  {
   "cell_type": "code",
   "execution_count": 1,
   "metadata": {},
   "outputs": [
    {
     "data": {
      "text/html": [
       "<style>\n",
       "@import url('https://fonts.googleapis.com/css?family=Orbitron');\n",
       "h1, h2 {color:#3636ff; font-size:110%; font-family:'Orbitron'; text-shadow:5px 5px 5px #aaa;}\n",
       "p, a {color:darkblue; font-size:120%; text-shadow:5px 5px 5px #aaa;}\n",
       "</style>"
      ],
      "text/plain": [
       "<IPython.core.display.HTML object>"
      ]
     },
     "metadata": {},
     "output_type": "display_data"
    }
   ],
   "source": [
    "%%html\n",
    "<style>\n",
    "@import url('https://fonts.googleapis.com/css?family=Orbitron');\n",
    "h1, h2 {color:#3636ff; font-size:110%; font-family:'Orbitron'; text-shadow:5px 5px 5px #aaa;}\n",
    "p, a {color:darkblue; font-size:120%; text-shadow:5px 5px 5px #aaa;}\n",
    "</style>"
   ]
  },
  {
   "cell_type": "markdown",
   "metadata": {},
   "source": [
    "# Processing of One-Dimensional Arrays by One Cycle\n",
    "Create an algorithm and a program"
   ]
  },
  {
   "cell_type": "code",
   "execution_count": 3,
   "metadata": {},
   "outputs": [
    {
     "data": {
      "text/html": [
       "<div class=\"notruncate\">\n",
       "<table  class=\"table_form\">\n",
       "<tbody>\n",
       "<tr class =\"row-a\">\n",
       "<td>[ 17, 55, 74, 77, 10, 18, 4, 90, 24, 77, 27 ]</td>\n",
       "<td>=></td>\n",
       "<td>[ 935, 1258, 1309, 170, 306, 68, 1530, 408, 1309, 459 ]</td>\n",
       "</tr>\n",
       "</tbody>\n",
       "</table>\n",
       "</div>"
      ],
      "text/plain": [
       "  [ 17, 55, 74, 77, 10, 18, 4, 90, 24, 77, 27 ]   =>   [ 935, 1258, 1309, 170, 306, 68, 1530, 408, 1309, 459 ]"
      ]
     },
     "execution_count": 3,
     "metadata": {},
     "output_type": "execute_result"
    }
   ],
   "source": [
    "#20\n",
    "X=[randint(1,99) for i in [0..10]]\n",
    "Y=[X[0]*X[i] for i in [1..len(X)-1]]\n",
    "table([[html(ascii_art(X)),'=>',html(ascii_art(Y))]])"
   ]
  },
  {
   "cell_type": "code",
   "execution_count": 22,
   "metadata": {},
   "outputs": [
    {
     "data": {
      "text/html": [
       "<div class=\"notruncate\">\n",
       "<table  class=\"table_form\">\n",
       "<tbody>\n",
       "<tr class =\"row-a\">\n",
       "<td>string summation</td>\n",
       "</tr>\n",
       "<tr class =\"row-b\">\n",
       "<td>[ ♔, ♕, ♖, ♗, ♘, ♙ ]</td>\n",
       "<td> => </td>\n",
       "<td>[ ♔, ♔♕, ♔♕♖, ♔♕♖♗, ♔♕♖♗♘, ♔♕♖♗♘♙ ]</td>\n",
       "</tr>\n",
       "<tr class =\"row-a\">\n",
       "<td>number summation</td>\n",
       "</tr>\n",
       "<tr class =\"row-b\">\n",
       "<td>[ 49, 15, 88, 39, 86, 23, 21, 4, 32, 28, 75 ]</td>\n",
       "<td>=></td>\n",
       "<td>[ 49, 64, 152, 191, 277, 300, 321, 325, 357, 385, 460 ]</td>\n",
       "</tr>\n",
       "</tbody>\n",
       "</table>\n",
       "</div>"
      ],
      "text/plain": [
       "  string summation\n",
       "  [ ♔, ♕, ♖, ♗, ♘, ♙ ]\n",
       "  number summation\n",
       "  [ 49, 15, 88, 39, 86, 23, 21, 4, 32, 28, 75 ]"
      ]
     },
     "execution_count": 22,
     "metadata": {},
     "output_type": "execute_result"
    }
   ],
   "source": [
    "#21\n",
    "def sum_arr(X):\n",
    "    T=[X[0]]\n",
    "    for i in [1..len(X)-1]: T.append(T[i-1]+X[i])\n",
    "    return T\n",
    "X1=[\"♔\",\"♕\",\"♖\",\"♗\",\"♘\",\"♙\"]; X2=[randint(1,99) for i in [0..10]]\n",
    "t=[['string summation'],[html(ascii_art(X1)),' => ',html(ascii_art(sum_arr(X1)))]]; \n",
    "t+=[['number summation'],[html(ascii_art(X2)),'=>',html(ascii_art(sum_arr(X2)))]]\n",
    "table(t)"
   ]
  },
  {
   "cell_type": "code",
   "execution_count": 36,
   "metadata": {},
   "outputs": [
    {
     "data": {
      "text/html": [
       "<div class=\"notruncate\">\n",
       "<table  class=\"table_form\">\n",
       "<tbody>\n",
       "<tr class =\"row-a\">\n",
       "<td>radiuses</td>\n",
       "<td>[854.03, 673.81, 779.57, 648.82, 297.44, 705.13, 735.86, 99.19, 234.0, 587.9, 132.04]</td>\n",
       "</tr>\n",
       "<tr class =\"row-b\">\n",
       "<td>heights</td>\n",
       "<td>[43.21, 966.98, 1326.58, 970.18, 514.73, 1235.12, 1459.11, 4.48, 100.95, 851.72]</td>\n",
       "</tr>\n",
       "<tr class =\"row-a\">\n",
       "<td>volume</td>\n",
       "<td><p><script type=\"math/tex\">[2464954284.750357 \\, \\pi, 7.74388227240641 \\times 10^{9}]</script></p></td>\n",
       "</tr>\n",
       "</tbody>\n",
       "</table>\n",
       "</div>"
      ],
      "text/plain": [
       "  radiuses   [854.03, 673.81, 779.57, 648.82, 297.44, 705.13, 735.86, 99.19, 234.0, 587.9, 132.04]\n",
       "  heights    [43.21, 966.98, 1326.58, 970.18, 514.73, 1235.12, 1459.11, 4.48, 100.95, 851.72]\n",
       "  volume     <p><script type=\"math/tex\">[2464954284.750357 \\, \\pi, 7.74388227240641 \\times 10^{9}]</script></p>"
      ]
     },
     "execution_count": 36,
     "metadata": {},
     "output_type": "execute_result"
    }
   ],
   "source": [
    "#22\n",
    "V=0; N=10; R=[round(random()*1000,2) for i in [0..N]]\n",
    "H=[round(2*random()*R[i],2) for i in [0..N-1]]\n",
    "for i in [0..N-1]: V+=pi*H[i]^2*(R[i]-H[i]/3)\n",
    "t=[['radiuses',html(ascii_art('%s'%R))],\n",
    "   ['heights',html(ascii_art('%s'%H))],\n",
    "   ['volume',html(ascii_art('<p>$%s$</p>'%[latex(V),latex(V.n())]))]]\n",
    "table(t)"
   ]
  }
 ],
 "metadata": {
  "kernelspec": {
   "display_name": "SageMath 8.8",
   "language": "sage",
   "name": "sagemath"
  },
  "language_info": {
   "codemirror_mode": {
    "name": "ipython",
    "version": 2
   },
   "file_extension": ".py",
   "mimetype": "text/x-python",
   "name": "python",
   "nbconvert_exporter": "python",
   "pygments_lexer": "ipython2",
   "version": "2.7.15"
  }
 },
 "nbformat": 4,
 "nbformat_minor": 2
}
