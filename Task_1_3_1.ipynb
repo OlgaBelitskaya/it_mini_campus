{
 "cells": [
  {
   "cell_type": "code",
   "execution_count": 1,
   "metadata": {},
   "outputs": [
    {
     "data": {
      "text/html": [
       "<style>\n",
       "@import url('https://fonts.googleapis.com/css?family=Orbitron');\n",
       "h1, h2 {color:#3636ff; font-size:110%; font-family:'Orbitron'; text-shadow:5px 5px 5px #aaa;}\n",
       "p, a {color:darkblue; font-size:120%; text-shadow:5px 5px 5px #aaa;}\n",
       "</style>"
      ],
      "text/plain": [
       "<IPython.core.display.HTML object>"
      ]
     },
     "metadata": {},
     "output_type": "display_data"
    }
   ],
   "source": [
    "%%html\n",
    "<style>\n",
    "@import url('https://fonts.googleapis.com/css?family=Orbitron');\n",
    "h1, h2 {color:#3636ff; font-size:110%; font-family:'Orbitron'; text-shadow:5px 5px 5px #aaa;}\n",
    "p, a {color:darkblue; font-size:120%; text-shadow:5px 5px 5px #aaa;}\n",
    "</style>"
   ]
  },
  {
   "cell_type": "markdown",
   "metadata": {},
   "source": [
    "# Simple Calculations and Tabulating in Cycles\n",
    "Create an algorithm and a program"
   ]
  },
  {
   "cell_type": "code",
   "execution_count": 2,
   "metadata": {},
   "outputs": [
    {
     "data": {
      "text/html": [
       "<script type=\"math/tex\">\\left( R, H, i \\right) \\ {\\mapsto} \\ -\\frac{4}{3} \\, \\pi {\\left({\\left(H {\\left(i - 1\\right)} + R\\right)}^{3} - {\\left(H i + R\\right)}^{3}\\right)}</script>"
      ],
      "text/plain": [
       "<script type=\"math/tex\">\\left( R, H, i \\right) \\ {\\mapsto} \\ -\\frac{4}{3} \\, \\pi {\\left({\\left(H {\\left(i - 1\\right)} + R\\right)}^{3} - {\\left(H i + R\\right)}^{3}\\right)}</script>"
      ]
     },
     "metadata": {},
     "output_type": "display_data"
    },
    {
     "data": {
      "text/html": [
       "<div class=\"notruncate\">\n",
       "<table  class=\"table_form\">\n",
       "<tbody>\n",
       "<tr class =\"row-a\">\n",
       "<td>N</td>\n",
       "<td>R</td>\n",
       "<td>H</td>\n",
       "<td>V</td>\n",
       "<td>V=</td>\n",
       "</tr>\n",
       "<tr class =\"row-b\">\n",
       "<td><script type=\"math/tex\">1</script></td>\n",
       "<td><script type=\"math/tex\">0.5046176526609888</script></td>\n",
       "<td><script type=\"math/tex\">0.5658406836198407</script></td>\n",
       "<td><script type=\"math/tex\">1.4641634666944718 \\, \\pi</script></td>\n",
       "<td><script type=\"math/tex\">4.59980519062192</script></td>\n",
       "</tr>\n",
       "<tr class =\"row-a\">\n",
       "<td><script type=\"math/tex\">2</script></td>\n",
       "<td><script type=\"math/tex\">0.5046176526609888</script></td>\n",
       "<td><script type=\"math/tex\">0.5658406836198407</script></td>\n",
       "<td><script type=\"math/tex\">4.206041266023743 \\, \\pi</script></td>\n",
       "<td><script type=\"math/tex\">13.2136683420357</script></td>\n",
       "</tr>\n",
       "<tr class =\"row-b\">\n",
       "<td><script type=\"math/tex\">3</script></td>\n",
       "<td><script type=\"math/tex\">0.5046176526609888</script></td>\n",
       "<td><script type=\"math/tex\">0.5658406836198407</script></td>\n",
       "<td><script type=\"math/tex\">8.397266467107029 \\, \\pi</script></td>\n",
       "<td><script type=\"math/tex\">26.3807906432994</script></td>\n",
       "</tr>\n",
       "<tr class =\"row-a\">\n",
       "<td><script type=\"math/tex\">4</script></td>\n",
       "<td><script type=\"math/tex\">0.5046176526609888</script></td>\n",
       "<td><script type=\"math/tex\">0.5658406836198407</script></td>\n",
       "<td><script type=\"math/tex\">14.037839069944322 \\, \\pi</script></td>\n",
       "<td><script type=\"math/tex\">44.1011720944129</script></td>\n",
       "</tr>\n",
       "<tr class =\"row-b\">\n",
       "<td><script type=\"math/tex\">5</script></td>\n",
       "<td><script type=\"math/tex\">0.5046176526609888</script></td>\n",
       "<td><script type=\"math/tex\">0.5658406836198407</script></td>\n",
       "<td><script type=\"math/tex\">21.127759074535636 \\, \\pi</script></td>\n",
       "<td><script type=\"math/tex\">66.3748126953762</script></td>\n",
       "</tr>\n",
       "<tr class =\"row-a\">\n",
       "<td><script type=\"math/tex\">6</script></td>\n",
       "<td><script type=\"math/tex\">0.5046176526609888</script></td>\n",
       "<td><script type=\"math/tex\">0.5658406836198407</script></td>\n",
       "<td><script type=\"math/tex\">29.667026480880914 \\, \\pi</script></td>\n",
       "<td><script type=\"math/tex\">93.2017124461893</script></td>\n",
       "</tr>\n",
       "<tr class =\"row-b\">\n",
       "<td><script type=\"math/tex\">7</script></td>\n",
       "<td><script type=\"math/tex\">0.5046176526609888</script></td>\n",
       "<td><script type=\"math/tex\">0.5658406836198407</script></td>\n",
       "<td><script type=\"math/tex\">39.655641288980235 \\, \\pi</script></td>\n",
       "<td><script type=\"math/tex\">124.581871346852</script></td>\n",
       "</tr>\n",
       "</tbody>\n",
       "</table>\n",
       "</div>"
      ],
      "text/plain": [
       "  N   R                H               V                       V=\n",
       "  1   0.504617652661   0.56584068362   1.4641634666944718*pi   4.59980519062192\n",
       "  2   0.504617652661   0.56584068362   4.206041266023743*pi    13.2136683420357\n",
       "  3   0.504617652661   0.56584068362   8.397266467107029*pi    26.3807906432994\n",
       "  4   0.504617652661   0.56584068362   14.037839069944322*pi   44.1011720944129\n",
       "  5   0.504617652661   0.56584068362   21.127759074535636*pi   66.3748126953762\n",
       "  6   0.504617652661   0.56584068362   29.667026480880914*pi   93.2017124461893\n",
       "  7   0.504617652661   0.56584068362   39.655641288980235*pi   124.581871346852"
      ]
     },
     "metadata": {},
     "output_type": "display_data"
    },
    {
     "data": {
      "text/html": [
       "<html><script type=\"math/tex; mode=display\">\\newcommand{\\Bold}[1]{\\mathbf{#1}}\\verb|R=0.50,|\\phantom{\\verb!x!}\\verb|H=0.57,|\\phantom{\\verb!x!}\\verb|N=7|\\phantom{\\verb!x!}\\verb|->|\\phantom{\\verb!x!}\\verb|V=124.581871|</script></html>"
      ],
      "text/plain": [
       "'R=0.50, H=0.57, N=7 -> V=124.581871'"
      ]
     },
     "metadata": {},
     "output_type": "display_data"
    },
    {
     "data": {
      "text/html": [
       "\n",
       "<iframe srcdoc=\"\n",
       "<html>\n",
       "<head>\n",
       "  <style>\n",
       "    * {\n",
       "      margin: 0;\n",
       "      padding: 0;\n",
       "      overflow: hidden;\n",
       "    }\n",
       "    body, html {      \n",
       "      height: 100%;\n",
       "      width: 100%;\n",
       "    }\n",
       "  </style>\n",
       "  <script type=&quot;text/javascript&quot; src=&quot;/nbextensions/jsmol/JSmol.min.js&quot;></script>\n",
       "</head>\n",
       "<body>\n",
       "  <script type=&quot;text/javascript&quot;>\n",
       "    var script = [\n",
       "  'background [255,255,255]',\n",
       "  'spin OFF',\n",
       "  'moveto 0 -764 -346 -545 76.39',\n",
       "  'centerAt absolute {0 0 0}',\n",
       "  'zoom 100',\n",
       "  'frank OFF',\n",
       "  'set perspectivedepth ON',\n",
       "  'isosurface sphere_1 resolution 20 center {0.0 0.0 0.0} sphere 0.339010666549',\n",
       "  'color isosurface  [102,102,255]',\n",
       "  'isosurface sphere_2  center {0.0 0.0 0.0} sphere 0.719151999899',\n",
       "  'color isosurface  [102,102,255]',\n",
       "  'isosurface sphere_3  center {0.0 0.0 0.0} sphere 1.09929333325',\n",
       "  'color isosurface translucent 0.5 [102,102,255]',\n",
       "  'isosurface sphere_4  center {0.0 0.0 0.0} sphere 1.4794346666',\n",
       "  'color isosurface translucent 0.666666666667 [102,102,255]',\n",
       "  'isosurface sphere_5  center {0.0 0.0 0.0} sphere 1.85957599995',\n",
       "  'color isosurface translucent 0.75 [102,102,255]',\n",
       "  'isosurface sphere_6  center {0.0 0.0 0.0} sphere 2.2397173333',\n",
       "  'color isosurface translucent 0.8 [102,102,255]',\n",
       "  'isosurface sphere_7  center {0.0 0.0 0.0} sphere 2.61985866665',\n",
       "  'color isosurface translucent 0.833333333333 [102,102,255]',\n",
       "  'isosurface sphere_8  center {0.0 0.0 0.0} sphere 3.0',\n",
       "  'color isosurface translucent 0.857142857143 [102,102,255]',\n",
       "  'isosurface fullylit; pmesh o* fullylit; set antialiasdisplay on;',\n",
       "].join('\\n');;\n",
       "    var Info = {\n",
       "      width: '100%',\n",
       "      height: '500',\n",
       "      debug: false,\n",
       "      disableInitialConsole: true,   // very slow when used with inline mesh\n",
       "      color: '#3131ff',\n",
       "      addSelectionOptions: false,\n",
       "      use: 'HTML5',\n",
       "      j2sPath: '/nbextensions/jsmol/j2s',\n",
       "      script: script,\n",
       "    };\n",
       "    var jmolApplet0 = Jmol.getApplet('jmolApplet0', Info);\n",
       "  </script>\n",
       "</body>\n",
       "</html>\n",
       "\" \n",
       "        width=\"100%\"\n",
       "        height=\"500\"\n",
       "        style=\"border: 0;\">\n",
       "</iframe>\n"
      ],
      "text/plain": [
       "Graphics3d Object"
      ]
     },
     "metadata": {},
     "output_type": "display_data"
    }
   ],
   "source": [
    "#1\n",
    "var('R,H,N,i'); V(R,H,i)=4/3*pi*((R+H*i)^3-(R+H*(i-1))^3)\n",
    "def create_table(R,H,N):\n",
    "    pretty_print(html(latex(V))); S=[1..N]\n",
    "    l=[[i,R,H,V(R,H,i),V(R,H,i).n()] for i in S]\n",
    "    show(table([['N','R','H','V','V=']]+l))\n",
    "from sage.plot.plot3d.shapes import Sphere\n",
    "def display_shell(R,H,N):\n",
    "    g=Graphics(); s=Sphere(R,frame=false)\n",
    "    layers=sum([Sphere(R+i*H,opacity=1/i) for i in [1..N]])\n",
    "    pretty_print('R=%.2f, H=%.2f, N=%d -> V=%f'%(R,H,N,V(R,H,N))) \n",
    "    (g+s+layers).show()\n",
    "R,H,N=random(),random(),7; create_table(R,H,N); display_shell(R,H,N)"
   ]
  },
  {
   "cell_type": "code",
   "execution_count": 3,
   "metadata": {},
   "outputs": [
    {
     "data": {
      "text/html": [
       "<script type=\"math/tex\">\\left( A, B, i \\right) \\ {\\mapsto} \\ \\sqrt{{\\left(2 \\, A i + B\\right)}^{2} + 4 \\, i^{2}}</script>"
      ],
      "text/plain": [
       "<script type=\"math/tex\">\\left( A, B, i \\right) \\ {\\mapsto} \\ \\sqrt{{\\left(2 \\, A i + B\\right)}^{2} + 4 \\, i^{2}}</script>"
      ]
     },
     "metadata": {},
     "output_type": "display_data"
    },
    {
     "data": {
      "text/html": [
       "<div class=\"notruncate\">\n",
       "<table  class=\"table_form\">\n",
       "<tbody>\n",
       "<tr class =\"row-a\">\n",
       "<td>N</td>\n",
       "<td>A</td>\n",
       "<td>B</td>\n",
       "<td>L</td>\n",
       "<td>L=</td>\n",
       "</tr>\n",
       "<tr class =\"row-b\">\n",
       "<td><script type=\"math/tex\">1</script></td>\n",
       "<td><script type=\"math/tex\">8</script></td>\n",
       "<td><script type=\"math/tex\">9</script></td>\n",
       "<td><script type=\"math/tex\">\\sqrt{629}</script></td>\n",
       "<td><script type=\"math/tex\">25.0798724079689</script></td>\n",
       "</tr>\n",
       "<tr class =\"row-a\">\n",
       "<td><script type=\"math/tex\">2</script></td>\n",
       "<td><script type=\"math/tex\">8</script></td>\n",
       "<td><script type=\"math/tex\">9</script></td>\n",
       "<td><script type=\"math/tex\">\\sqrt{1697}</script></td>\n",
       "<td><script type=\"math/tex\">41.1946598480920</script></td>\n",
       "</tr>\n",
       "<tr class =\"row-b\">\n",
       "<td><script type=\"math/tex\">3</script></td>\n",
       "<td><script type=\"math/tex\">8</script></td>\n",
       "<td><script type=\"math/tex\">9</script></td>\n",
       "<td><script type=\"math/tex\">3 \\, \\sqrt{365}</script></td>\n",
       "<td><script type=\"math/tex\">57.3149195236284</script></td>\n",
       "</tr>\n",
       "<tr class =\"row-a\">\n",
       "<td><script type=\"math/tex\">4</script></td>\n",
       "<td><script type=\"math/tex\">8</script></td>\n",
       "<td><script type=\"math/tex\">9</script></td>\n",
       "<td><script type=\"math/tex\">\\sqrt{5393}</script></td>\n",
       "<td><script type=\"math/tex\">73.4370478709486</script></td>\n",
       "</tr>\n",
       "<tr class =\"row-b\">\n",
       "<td><script type=\"math/tex\">5</script></td>\n",
       "<td><script type=\"math/tex\">8</script></td>\n",
       "<td><script type=\"math/tex\">9</script></td>\n",
       "<td><script type=\"math/tex\">\\sqrt{8021}</script></td>\n",
       "<td><script type=\"math/tex\">89.5600357302296</script></td>\n",
       "</tr>\n",
       "</tbody>\n",
       "</table>\n",
       "</div>"
      ],
      "text/plain": [
       "  N   A   B   L             L=\n",
       "  1   8   9   sqrt(629)     25.0798724079689\n",
       "  2   8   9   sqrt(1697)    41.1946598480920\n",
       "  3   8   9   3*sqrt(365)   57.3149195236284\n",
       "  4   8   9   sqrt(5393)    73.4370478709486\n",
       "  5   8   9   sqrt(8021)    89.5600357302296"
      ]
     },
     "metadata": {},
     "output_type": "display_data"
    }
   ],
   "source": [
    "#3\n",
    "var('A,B,N,i'); L(A,B,i)=sqrt(4*i^2+(2*A*i+B)^2)\n",
    "def create_table(A,B,N):\n",
    "    pretty_print(html(latex(L))); S=[1..N]\n",
    "    l=[[i,A,B,L(A,B,i),L(A,B,i).n()] for i in S]\n",
    "    show(table([['N','A','B','L','L=']]+l))\n",
    "create_table(randint(1,10),randint(1,10),5)"
   ]
  },
  {
   "cell_type": "code",
   "execution_count": 4,
   "metadata": {},
   "outputs": [
    {
     "data": {
      "text/html": [
       "<script type=\"math/tex\">\\left( D, i \\right) \\ {\\mapsto} \\ -\\frac{1}{2} \\, D + \\frac{D i}{2 \\, \\pi}</script>"
      ],
      "text/plain": [
       "<script type=\"math/tex\">\\left( D, i \\right) \\ {\\mapsto} \\ -\\frac{1}{2} \\, D + \\frac{D i}{2 \\, \\pi}</script>"
      ]
     },
     "metadata": {},
     "output_type": "display_data"
    },
    {
     "data": {
      "text/html": [
       "<script type=\"math/tex\">\\left( D, i \\right) \\ {\\mapsto} \\ \\frac{1}{2} \\, D + \\frac{D i}{2 \\, \\pi}</script>"
      ],
      "text/plain": [
       "<script type=\"math/tex\">\\left( D, i \\right) \\ {\\mapsto} \\ \\frac{1}{2} \\, D + \\frac{D i}{2 \\, \\pi}</script>"
      ]
     },
     "metadata": {},
     "output_type": "display_data"
    },
    {
     "data": {
      "text/html": [
       "<div class=\"notruncate\">\n",
       "<table  class=\"table_form\">\n",
       "<tbody>\n",
       "<tr class =\"row-a\">\n",
       "<td>N</td>\n",
       "<td>D</td>\n",
       "<td>r</td>\n",
       "<td>r=</td>\n",
       "<td>R</td>\n",
       "<td>R=</td>\n",
       "</tr>\n",
       "<tr class =\"row-b\">\n",
       "<td><script type=\"math/tex\">21</script></td>\n",
       "<td><script type=\"math/tex\">9</script></td>\n",
       "<td><script type=\"math/tex\">\\frac{189}{2 \\, \\pi} - \\frac{9}{2}</script></td>\n",
       "<td><script type=\"math/tex\">25.5802842443682</script></td>\n",
       "<td><script type=\"math/tex\">\\frac{189}{2 \\, \\pi} + \\frac{9}{2}</script></td>\n",
       "<td><script type=\"math/tex\">34.5802842443682</script></td>\n",
       "</tr>\n",
       "<tr class =\"row-a\">\n",
       "<td><script type=\"math/tex\">22</script></td>\n",
       "<td><script type=\"math/tex\">9</script></td>\n",
       "<td><script type=\"math/tex\">\\frac{99}{\\pi} - \\frac{9}{2}</script></td>\n",
       "<td><script type=\"math/tex\">27.0126787321953</script></td>\n",
       "<td><script type=\"math/tex\">\\frac{99}{\\pi} + \\frac{9}{2}</script></td>\n",
       "<td><script type=\"math/tex\">36.0126787321953</script></td>\n",
       "</tr>\n",
       "<tr class =\"row-b\">\n",
       "<td><script type=\"math/tex\">23</script></td>\n",
       "<td><script type=\"math/tex\">9</script></td>\n",
       "<td><script type=\"math/tex\">\\frac{207}{2 \\, \\pi} - \\frac{9}{2}</script></td>\n",
       "<td><script type=\"math/tex\">28.4450732200223</script></td>\n",
       "<td><script type=\"math/tex\">\\frac{207}{2 \\, \\pi} + \\frac{9}{2}</script></td>\n",
       "<td><script type=\"math/tex\">37.4450732200223</script></td>\n",
       "</tr>\n",
       "<tr class =\"row-a\">\n",
       "<td><script type=\"math/tex\">24</script></td>\n",
       "<td><script type=\"math/tex\">9</script></td>\n",
       "<td><script type=\"math/tex\">\\frac{108}{\\pi} - \\frac{9}{2}</script></td>\n",
       "<td><script type=\"math/tex\">29.8774677078494</script></td>\n",
       "<td><script type=\"math/tex\">\\frac{108}{\\pi} + \\frac{9}{2}</script></td>\n",
       "<td><script type=\"math/tex\">38.8774677078494</script></td>\n",
       "</tr>\n",
       "<tr class =\"row-b\">\n",
       "<td><script type=\"math/tex\">25</script></td>\n",
       "<td><script type=\"math/tex\">9</script></td>\n",
       "<td><script type=\"math/tex\">\\frac{225}{2 \\, \\pi} - \\frac{9}{2}</script></td>\n",
       "<td><script type=\"math/tex\">31.3098621956765</script></td>\n",
       "<td><script type=\"math/tex\">\\frac{225}{2 \\, \\pi} + \\frac{9}{2}</script></td>\n",
       "<td><script type=\"math/tex\">40.3098621956765</script></td>\n",
       "</tr>\n",
       "<tr class =\"row-a\">\n",
       "<td><script type=\"math/tex\">26</script></td>\n",
       "<td><script type=\"math/tex\">9</script></td>\n",
       "<td><script type=\"math/tex\">\\frac{117}{\\pi} - \\frac{9}{2}</script></td>\n",
       "<td><script type=\"math/tex\">32.7422566835035</script></td>\n",
       "<td><script type=\"math/tex\">\\frac{117}{\\pi} + \\frac{9}{2}</script></td>\n",
       "<td><script type=\"math/tex\">41.7422566835035</script></td>\n",
       "</tr>\n",
       "<tr class =\"row-b\">\n",
       "<td><script type=\"math/tex\">27</script></td>\n",
       "<td><script type=\"math/tex\">9</script></td>\n",
       "<td><script type=\"math/tex\">\\frac{243}{2 \\, \\pi} - \\frac{9}{2}</script></td>\n",
       "<td><script type=\"math/tex\">34.1746511713306</script></td>\n",
       "<td><script type=\"math/tex\">\\frac{243}{2 \\, \\pi} + \\frac{9}{2}</script></td>\n",
       "<td><script type=\"math/tex\">43.1746511713306</script></td>\n",
       "</tr>\n",
       "</tbody>\n",
       "</table>\n",
       "</div>"
      ],
      "text/plain": [
       "  N    D   r                r=                 R                R=\n",
       "  21   9   189/2/pi - 9/2   25.5802842443682   189/2/pi + 9/2   34.5802842443682\n",
       "  22   9   99/pi - 9/2      27.0126787321953   99/pi + 9/2      36.0126787321953\n",
       "  23   9   207/2/pi - 9/2   28.4450732200223   207/2/pi + 9/2   37.4450732200223\n",
       "  24   9   108/pi - 9/2     29.8774677078494   108/pi + 9/2     38.8774677078494\n",
       "  25   9   225/2/pi - 9/2   31.3098621956765   225/2/pi + 9/2   40.3098621956765\n",
       "  26   9   117/pi - 9/2     32.7422566835035   117/pi + 9/2     41.7422566835035\n",
       "  27   9   243/2/pi - 9/2   34.1746511713306   243/2/pi + 9/2   43.1746511713306"
      ]
     },
     "metadata": {},
     "output_type": "display_data"
    }
   ],
   "source": [
    "#4\n",
    "var('D,N,i'); r(D,i)=D*i/(2*pi)-D/2; R(D,i)=D*i/(2*pi)+D/2\n",
    "def create_table(D,N):\n",
    "    pretty_print(html(latex(r))); pretty_print(html(latex(R)))\n",
    "    S=[21..20+N]; l=[[i,D,r(D,i),r(D,i).n(),R(D,i),R(D,i).n()] for i in S]\n",
    "    show(table([['N','D','r','r=','R','R=']]+l))\n",
    "create_table(randint(1,10),7)"
   ]
  }
 ],
 "metadata": {
  "kernelspec": {
   "display_name": "SageMath 8.8",
   "language": "sage",
   "name": "sagemath"
  },
  "language_info": {
   "codemirror_mode": {
    "name": "ipython",
    "version": 2
   },
   "file_extension": ".py",
   "mimetype": "text/x-python",
   "name": "python",
   "nbconvert_exporter": "python",
   "pygments_lexer": "ipython2",
   "version": "2.7.15"
  }
 },
 "nbformat": 4,
 "nbformat_minor": 2
}
