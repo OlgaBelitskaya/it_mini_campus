{
 "cells": [
  {
   "cell_type": "code",
   "execution_count": 1,
   "metadata": {},
   "outputs": [
    {
     "data": {
      "text/html": [
       "<style>\n",
       "@import url('https://fonts.googleapis.com/css?family=Orbitron');\n",
       "h1, h2 {color:#3636ff; font-size:110%; font-family:'Orbitron'; text-shadow:5px 5px 5px #aaa;}\n",
       "p, a {color:darkblue; font-size:120%; text-shadow:5px 5px 5px #aaa;}\n",
       "</style>"
      ],
      "text/plain": [
       "<IPython.core.display.HTML object>"
      ]
     },
     "metadata": {},
     "output_type": "display_data"
    }
   ],
   "source": [
    "%%html\n",
    "<style>\n",
    "@import url('https://fonts.googleapis.com/css?family=Orbitron');\n",
    "h1, h2 {color:#3636ff; font-size:110%; font-family:'Orbitron'; text-shadow:5px 5px 5px #aaa;}\n",
    "p, a {color:darkblue; font-size:120%; text-shadow:5px 5px 5px #aaa;}\n",
    "</style>"
   ]
  },
  {
   "cell_type": "markdown",
   "metadata": {},
   "source": [
    "# Processing Data with Various Structures\n",
    "Create an algorithm and a program"
   ]
  },
  {
   "cell_type": "code",
   "execution_count": 2,
   "metadata": {},
   "outputs": [
    {
     "data": {
      "text/html": [
       "<script type=\"math/tex\">A=\\left(\\begin{array}{rrrrr} 0.102896506268482 & -0.102840310467077 & -0.464104693372457 & 0.0187649293337180 & -0.415402770660837 \\\\ 0.745678683960227 & -0.761674643885283 & -0.480373779144714 & 0.988150000502709 & 0.301003702964074 \\\\ -0.271201491097143 & 0.907356568183155 & -0.0389737896485498 & 0.580165091147820 & -0.433983149277165 \\\\ 0.748193374077924 & 0.886127085035684 & 0.190120101493318 & -0.413378707783491 & 0.789665107868123 \\\\ 0.339016831073015 & 0.842555147090881 & -0.430952713195358 & 0.966615260432688 & 0.194708425536988 \\end{array}\\right);</script><br/><br/><script type=\"math/tex\">B=77.4329910564; C1=11.4132158012, R=12.2464930226</script><br/><br/>"
      ],
      "text/plain": [
       "<script type=\"math/tex\">A=\\left(\\begin{array}{rrrrr} 0.102896506268482 & -0.102840310467077 & -0.464104693372457 & 0.0187649293337180 & -0.415402770660837 \\\\ 0.745678683960227 & -0.761674643885283 & -0.480373779144714 & 0.988150000502709 & 0.301003702964074 \\\\ -0.271201491097143 & 0.907356568183155 & -0.0389737896485498 & 0.580165091147820 & -0.433983149277165 \\\\ 0.748193374077924 & 0.886127085035684 & 0.190120101493318 & -0.413378707783491 & 0.789665107868123 \\\\ 0.339016831073015 & 0.842555147090881 & -0.430952713195358 & 0.966615260432688 & 0.194708425536988 \\end{array}\\right);</script><br/><br/><script type=\"math/tex\">B=77.4329910564; C1=11.4132158012, R=12.2464930226</script><br/><br/>"
      ]
     },
     "metadata": {},
     "output_type": "display_data"
    },
    {
     "data": {
      "text/html": [
       "<script type=\"math/tex\">X=\\left[-719.581371927717, 3813.22703787398, -1695.40701385723, 114.136655667215, -2.10666506157039\\right]</script>"
      ],
      "text/plain": [
       "<script type=\"math/tex\">X=\\left[-719.581371927717, 3813.22703787398, -1695.40701385723, 114.136655667215, -2.10666506157039\\right]</script>"
      ]
     },
     "metadata": {},
     "output_type": "display_data"
    }
   ],
   "source": [
    "def compute_array21(a,b,c1,r):\n",
    "    p=1; s=a.trace(); x=[]\n",
    "    for i in range(a.dimensions()[0]):\n",
    "        pr=prod([(c1+r*j)/(a[i,j]+.2*(c1+r*i)) for j in range(a.dimensions()[1])])\n",
    "        xi=s*p/(b*(c1+r*i))*pr; p=xi; x.append(xi)\n",
    "    return x\n",
    "N=5; A=random_matrix(RR,N)\n",
    "[B,C1,R]=[100*random() for i in range(3)]\n",
    "pretty_print(html('$A=%s;$<br/><br/>$B=%s; C1=%s, R=%s$<br/><br/>'%(latex(A),B,C1,R)))\n",
    "X=compute_array21(A,B,C1,R); pretty_print(html('$X=%s$'%latex(X)))"
   ]
  }
 ],
 "metadata": {
  "kernelspec": {
   "display_name": "SageMath 8.8",
   "language": "sage",
   "name": "sagemath"
  },
  "language_info": {
   "codemirror_mode": {
    "name": "ipython",
    "version": 2
   },
   "file_extension": ".py",
   "mimetype": "text/x-python",
   "name": "python",
   "nbconvert_exporter": "python",
   "pygments_lexer": "ipython2",
   "version": "2.7.15"
  }
 },
 "nbformat": 4,
 "nbformat_minor": 2
}
