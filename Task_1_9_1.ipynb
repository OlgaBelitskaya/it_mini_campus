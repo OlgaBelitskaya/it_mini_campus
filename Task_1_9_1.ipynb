{
 "cells": [
  {
   "cell_type": "code",
   "execution_count": 4,
   "metadata": {},
   "outputs": [
    {
     "data": {
      "text/html": [
       "<style>\n",
       "@import url('https://fonts.googleapis.com/css?family=Orbitron');\n",
       "h1, h2 {color:#3636ff; font-size:110%; font-family:'Orbitron'; text-shadow:5px 5px 5px #aaa;}\n",
       "p, a {color:darkblue; font-size:120%; text-shadow:5px 5px 5px #aaa;}\n",
       "</style>"
      ],
      "text/plain": [
       "<IPython.core.display.HTML object>"
      ]
     },
     "metadata": {},
     "output_type": "display_data"
    }
   ],
   "source": [
    "%%html\n",
    "<style>\n",
    "@import url('https://fonts.googleapis.com/css?family=Orbitron');\n",
    "h1, h2 {color:#3636ff; font-size:110%; font-family:'Orbitron'; text-shadow:5px 5px 5px #aaa;}\n",
    "p, a {color:darkblue; font-size:120%; text-shadow:5px 5px 5px #aaa;}\n",
    "</style>"
   ]
  },
  {
   "cell_type": "markdown",
   "metadata": {},
   "source": [
    "# Logical Expressions\n",
    "Prove the logical values (true or false) of the following expressions"
   ]
  },
  {
   "cell_type": "code",
   "execution_count": 1,
   "metadata": {},
   "outputs": [
    {
     "data": {
      "text/html": [
       "<div class=\"notruncate\">\n",
       "<table  class=\"table_form\">\n",
       "<tbody>\n",
       "<tr class =\"row-a\">\n",
       "<td>n</td>\n",
       "<td>expression</td>\n",
       "<td>variables</td>\n",
       "<td>value</td>\n",
       "</tr>\n",
       "<tr class =\"row-b\">\n",
       "<td><script type=\"math/tex\">1</script></td>\n",
       "<td>(x<=2)|(2*y==10)&(x/4!=0.25)|(x*y>=0)</td>\n",
       "<td>x=1; y=20</td>\n",
       "<td><script type=\"math/tex\">\\mathrm{True}</script></td>\n",
       "</tr>\n",
       "<tr class =\"row-a\">\n",
       "<td><script type=\"math/tex\">2</script></td>\n",
       "<td>(not(a>b))|(b>c)|(b/c>3)&(not(b+c==1))</td>\n",
       "<td>a=1; b=2; c=3</td>\n",
       "<td><script type=\"math/tex\">\\mathrm{True}</script></td>\n",
       "</tr>\n",
       "<tr class =\"row-b\">\n",
       "<td><script type=\"math/tex\">3</script></td>\n",
       "<td>(x+y!=3)|(not(x/y<=2))|(z==3*x)&(y>x+1)</td>\n",
       "<td>x=1; y=2; x=3</td>\n",
       "<td><script type=\"math/tex\">\\mathrm{False}</script></td>\n",
       "</tr>\n",
       "<tr class =\"row-a\">\n",
       "<td><script type=\"math/tex\">4</script></td>\n",
       "<td>(x/a==1)|(b/(a+b)<1)&(not(b==a))|(x!=6)</td>\n",
       "<td>x=6; a=2; b=3</td>\n",
       "<td><script type=\"math/tex\">\\mathrm{True}</script></td>\n",
       "</tr>\n",
       "<tr class =\"row-b\">\n",
       "<td><script type=\"math/tex\">5</script></td>\n",
       "<td>(not(x*y*z==1))|(x< z)&(x/y!=2)|(x+y>z-1)</td>\n",
       "<td>x=0.25; y=2; z=2</td>\n",
       "<td><script type=\"math/tex\">\\mathrm{True}</script></td>\n",
       "</tr>\n",
       "<tr class =\"row-a\">\n",
       "<td><script type=\"math/tex\">6</script></td>\n",
       "<td>(x*y==3)|(x< z)|(not(x+2>=z+y))&(x/z>y)</td>\n",
       "<td>x=2; y=1.5; z=2</td>\n",
       "<td><script type=\"math/tex\">\\mathrm{True}</script></td>\n",
       "</tr>\n",
       "<tr class =\"row-b\">\n",
       "<td><script type=\"math/tex\">7</script></td>\n",
       "<td>(a<=b)&(not(a/c==2))|(c<=a+b)&(c!=a/2)</td>\n",
       "<td>a=2; b=4; c=1</td>\n",
       "<td><script type=\"math/tex\">\\mathrm{False}</script></td>\n",
       "</tr>\n",
       "<tr class =\"row-a\">\n",
       "<td><script type=\"math/tex\">8</script></td>\n",
       "<td>(not(x+y==1))|(x-y==-.5)&(x>1)|(z<4)</td>\n",
       "<td>x=0.25; y=0.75; z=4</td>\n",
       "<td><script type=\"math/tex\">\\mathrm{False}</script></td>\n",
       "</tr>\n",
       "<tr class =\"row-b\">\n",
       "<td><script type=\"math/tex\">9</script></td>\n",
       "<td>(a-b==c*a)&(b<=c)|(not(a< b/c))&(b!=c)</td>\n",
       "<td>a=1; b=3; c=2</td>\n",
       "<td><script type=\"math/tex\">\\mathrm{False}</script></td>\n",
       "</tr>\n",
       "<tr class =\"row-a\">\n",
       "<td><script type=\"math/tex\">10</script></td>\n",
       "<td>(a/0.5< b+c)|(c==b)&(b!=a*c)|(not(a!=0))</td>\n",
       "<td>a=1; b=2; c=3</td>\n",
       "<td><script type=\"math/tex\">\\mathrm{True}</script></td>\n",
       "</tr>\n",
       "</tbody>\n",
       "</table>\n",
       "</div>"
      ],
      "text/plain": [
       "  n    expression                                  variables             value\n",
       "  1    (x<=2)|(2*y==10)&(x/4!=0.25)|(x*y>=0)       x=1; y=20             True\n",
       "  2    (not(a>b))|(b>c)|(b/c>3)&(not(b+c==1))      a=1; b=2; c=3         True\n",
       "  3    (x+y!=3)|(not(x/y<=2))|(z==3*x)&(y>x+1)     x=1; y=2; x=3         False\n",
       "  4    (x/a==1)|(b/(a+b)<1)&(not(b==a))|(x!=6)     x=6; a=2; b=3         True\n",
       "  5    (not(x*y*z==1))|(x< z)&(x/y!=2)|(x+y>z-1)   x=0.25; y=2; z=2      True\n",
       "  6    (x*y==3)|(x< z)|(not(x+2>=z+y))&(x/z>y)     x=2; y=1.5; z=2       True\n",
       "  7    (a<=b)&(not(a/c==2))|(c<=a+b)&(c!=a/2)      a=2; b=4; c=1         False\n",
       "  8    (not(x+y==1))|(x-y==-.5)&(x>1)|(z<4)        x=0.25; y=0.75; z=4   False\n",
       "  9    (a-b==c*a)&(b<=c)|(not(a< b/c))&(b!=c)      a=1; b=3; c=2         False\n",
       "  10   (a/0.5< b+c)|(c==b)&(b!=a*c)|(not(a!=0))    a=1; b=2; c=3         True"
      ]
     },
     "execution_count": 1,
     "metadata": {},
     "output_type": "execute_result"
    }
   ],
   "source": [
    "t=[['n','expression','variables','value']]\n",
    "le1=lambda x,y:(x<=2)|(2*y==10)&(x/4!=.25)|(x*y>=0)\n",
    "t.append([1,'(x<=2)|(2*y==10)&(x/4!=0.25)|(x*y>=0)', 'x=1; y=20',le1(1,20)])\n",
    "le2=lambda a,b,c:(not(a>b))|(b>c)|(b/c>3)&(not(b+c==1))\n",
    "t.append([2,'(not(a>b))|(b>c)|(b/c>3)&(not(b+c==1))','a=1; b=2; c=3',le2(1,2,3)])\n",
    "le3=lambda x,y,z:(x+y!=3)|(not(x/y<=2))|(z==3*x)&(y>x+1)\n",
    "t.append([3,'(x+y!=3)|(not(x/y<=2))|(z==3*x)&(y>x+1)','x=1; y=2; x=3',le3(1,2,3)])\n",
    "le4=lambda x,a,b:(x/a==1)|(b/(a+b)<1)&(not(b==a))|(x!=6)\n",
    "t.append([4,'(x/a==1)|(b/(a+b)<1)&(not(b==a))|(x!=6)','x=6; a=2; b=3',le4(6,2,3)])\n",
    "le5=lambda x,y,z:(not(x*y*z==1))|(x<z)&(x/y!=2)|(x+y>z-1)\n",
    "t.append([5,'(not(x*y*z==1))|(x< z)&(x/y!=2)|(x+y>z-1)','x=0.25; y=2; z=2',le5(0.25,2,2)])\n",
    "le6=lambda x,y,z:(x*y==3)|(x<z)|(not(x+2>=z+y))&(x/z>y)\n",
    "t.append([6,'(x*y==3)|(x< z)|(not(x+2>=z+y))&(x/z>y)','x=2; y=1.5; z=2',le6(2,1.5,2)])\n",
    "le7=lambda a,b,c:(a<=b)&(not(a/c==2))|(c<=a+b)&(c!=a/2)\n",
    "t.append([7,'(a<=b)&(not(a/c==2))|(c<=a+b)&(c!=a/2)','a=2; b=4; c=1',le7(2,4,1)])\n",
    "le8=lambda x,y,z:(not(x+y==1))|(x-y==-.5)&(x>1)|(z<4)\n",
    "t.append([8,'(not(x+y==1))|(x-y==-.5)&(x>1)|(z<4)','x=0.25; y=0.75; z=4',le8(.25,.75,4)])\n",
    "le9=lambda a,b,c:(a-b==c*a)&(b<=c)|(not(a<b/c))&(b!=c)\n",
    "t.append([9,'(a-b==c*a)&(b<=c)|(not(a< b/c))&(b!=c)','a=1; b=3; c=2',le9(1,3,2)])\n",
    "le10=lambda a,b,c:(a/.5<b+c)|(c==b)&(b!=a*c)|(not(a!=0))\n",
    "t.append([10,'(a/0.5< b+c)|(c==b)&(b!=a*c)|(not(a!=0))','a=1; b=2; c=3',le10(1,2,3)])\n",
    "table(t)"
   ]
  },
  {
   "cell_type": "code",
   "execution_count": 2,
   "metadata": {},
   "outputs": [
    {
     "data": {
      "text/html": [
       "<div class=\"notruncate\">\n",
       "<table  class=\"table_form\">\n",
       "<tbody>\n",
       "<tr class =\"row-a\">\n",
       "<td>n</td>\n",
       "<td>expression</td>\n",
       "<td>variables</td>\n",
       "<td>value</td>\n",
       "</tr>\n",
       "<tr class =\"row-b\">\n",
       "<td><script type=\"math/tex\">11</script></td>\n",
       "<td>(a==b)|(not(c==2))|(a+c< b)&(a/b<=c+2)</td>\n",
       "<td>a=1; b=3; c=2</td>\n",
       "<td><script type=\"math/tex\">\\mathrm{False}</script></td>\n",
       "</tr>\n",
       "<tr class =\"row-a\">\n",
       "<td><script type=\"math/tex\">19</script></td>\n",
       "<td>(not a)|b|(d+f!=0)&(not(d>0))|(a|c&b)</td>\n",
       "<td>a=True; b=False; c=True; d=-1; f=1</td>\n",
       "<td><script type=\"math/tex\">\\mathrm{True}</script></td>\n",
       "</tr>\n",
       "<tr class =\"row-b\">\n",
       "<td><script type=\"math/tex\">20</script></td>\n",
       "<td>a&b|(not(c))|(d!=1)&(a|b&c)&(d!=0)</td>\n",
       "<td>a=True; b=True; c=False; d=2</td>\n",
       "<td><script type=\"math/tex\">\\mathrm{True}</script></td>\n",
       "</tr>\n",
       "</tbody>\n",
       "</table>\n",
       "</div>"
      ],
      "text/plain": [
       "  n    expression                               variables                            value\n",
       "  11   (a==b)|(not(c==2))|(a+c< b)&(a/b<=c+2)   a=1; b=3; c=2                        False\n",
       "  19   (not a)|b|(d+f!=0)&(not(d>0))|(a|c&b)    a=True; b=False; c=True; d=-1; f=1   True\n",
       "  20   a&b|(not(c))|(d!=1)&(a|b&c)&(d!=0)       a=True; b=True; c=False; d=2         True"
      ]
     },
     "execution_count": 2,
     "metadata": {},
     "output_type": "execute_result"
    }
   ],
   "source": [
    "t=[['n','expression','variables','value']]\n",
    "le11=lambda a,b,c:(a==b)|(not(c==2))|(a+c<b)&(a/b<=c+2)\n",
    "t.append([11,'(a==b)|(not(c==2))|(a+c< b)&(a/b<=c+2)','a=1; b=3; c=2',\n",
    "          le11(1,3,2)])\n",
    "le19=lambda a,b,c,d,f:(not a)|b|(d+f!=0)&(not(d>0))|(a|c&b)\n",
    "t.append([19,'(not a)|b|(d+f!=0)&(not(d>0))|(a|c&b)','a=True; b=False; c=True; d=-1; f=1',\n",
    "          le19(True,False,True,-1,1)])\n",
    "le20=lambda a,b,c,d:a&b|(not(c))|(d!=1)&(a|b&c)&(d!=0)\n",
    "t.append([20,'a&b|(not(c))|(d!=1)&(a|b&c)&(d!=0)','a=True; b=True; c=False; d=2',\n",
    "          le20(True,True,False,2)])\n",
    "table(t)"
   ]
  },
  {
   "cell_type": "code",
   "execution_count": 3,
   "metadata": {},
   "outputs": [
    {
     "data": {
      "text/html": [
       "<div class=\"notruncate\">\n",
       "<table  class=\"table_form\">\n",
       "<tbody>\n",
       "<tr class =\"row-a\">\n",
       "<td>n</td>\n",
       "<td>expression</td>\n",
       "<td>variables</td>\n",
       "<td>value</td>\n",
       "</tr>\n",
       "<tr class =\"row-b\">\n",
       "<td><script type=\"math/tex\">21</script></td>\n",
       "<td>(not t)&p|(x+.5!=y)&(not(t|p))|(x+y<=0)</td>\n",
       "<td>x=0.5; y=1; t=True; p=False</td>\n",
       "<td><script type=\"math/tex\">\\mathrm{False}</script></td>\n",
       "</tr>\n",
       "<tr class =\"row-a\">\n",
       "<td><script type=\"math/tex\">22</script></td>\n",
       "<td>(q+2>r)&(a&b|c)|(not(r!=q))|(q>=1)</td>\n",
       "<td>a=False; b=False; c=True; q=1; r=2</td>\n",
       "<td><script type=\"math/tex\">\\mathrm{True}</script></td>\n",
       "</tr>\n",
       "</tbody>\n",
       "</table>\n",
       "</div>"
      ],
      "text/plain": [
       "  n    expression                                variables                            value\n",
       "  21   (not t)&p|(x+.5!=y)&(not(t|p))|(x+y<=0)   x=0.5; y=1; t=True; p=False          False\n",
       "  22   (q+2>r)&(a&b|c)|(not(r!=q))|(q>=1)        a=False; b=False; c=True; q=1; r=2   True"
      ]
     },
     "execution_count": 3,
     "metadata": {},
     "output_type": "execute_result"
    }
   ],
   "source": [
    "t=[['n','expression','variables','value']]\n",
    "le21=lambda x,y,t,p:(not t)&p|(x+.5!=y)&(not(t|p))|(x+y<=0)\n",
    "t.append([21,'(not t)&p|(x+.5!=y)&(not(t|p))|(x+y<=0)','x=0.5; y=1; t=True; p=False',\n",
    "          le21(.5,1,True,False)])\n",
    "le22=lambda a,b,c,q,r:(q+2>r)&(a&b|c)|(not(r!=q))|(q>=1)\n",
    "t.append([22,'(q+2>r)&(a&b|c)|(not(r!=q))|(q>=1)','a=False; b=False; c=True; q=1; r=2',\n",
    "          le22(False,False,True,1,2)])\n",
    "table(t)"
   ]
  }
 ],
 "metadata": {
  "kernelspec": {
   "display_name": "SageMath 8.8",
   "language": "sage",
   "name": "sagemath"
  },
  "language_info": {
   "codemirror_mode": {
    "name": "ipython",
    "version": 2
   },
   "file_extension": ".py",
   "mimetype": "text/x-python",
   "name": "python",
   "nbconvert_exporter": "python",
   "pygments_lexer": "ipython2",
   "version": "2.7.15"
  }
 },
 "nbformat": 4,
 "nbformat_minor": 2
}
