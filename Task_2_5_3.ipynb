{
 "cells": [
  {
   "cell_type": "code",
   "execution_count": 1,
   "metadata": {},
   "outputs": [
    {
     "data": {
      "text/html": [
       "<style>\n",
       "@import url('https://fonts.googleapis.com/css?family=Orbitron');\n",
       "h1, h2 {color:#3636ff; font-size:110%; font-family:'Orbitron'; text-shadow:5px 5px 5px #aaa;}\n",
       "p, a {color:darkblue; font-size:120%; text-shadow:5px 5px 5px #aaa;}\n",
       "</style>"
      ],
      "text/plain": [
       "<IPython.core.display.HTML object>"
      ]
     },
     "metadata": {},
     "output_type": "display_data"
    }
   ],
   "source": [
    "%%html\n",
    "<style>\n",
    "@import url('https://fonts.googleapis.com/css?family=Orbitron');\n",
    "h1, h2 {color:#3636ff; font-size:110%; font-family:'Orbitron'; text-shadow:5px 5px 5px #aaa;}\n",
    "p, a {color:darkblue; font-size:120%; text-shadow:5px 5px 5px #aaa;}\n",
    "</style>"
   ]
  },
  {
   "cell_type": "markdown",
   "metadata": {},
   "source": [
    "# Top-Down Programming for Array Processing\n",
    "Create an algorithm and a program for 5x5 matrices or arrays. <br/> \n",
    "Разработать алгоритм и программу нисходящим способом, <br/>\n",
    "предполагая заданной матрицу А из 5 строк и 5 столбцов <br/>\n",
    "или одномерные массивы указанной длины."
   ]
  },
  {
   "cell_type": "code",
   "execution_count": 3,
   "metadata": {},
   "outputs": [
    {
     "data": {
      "text/html": [
       "<script type=\"math/tex\">A=\\left(\\begin{array}{rrrrr} 12 & 19 & -57 & 19 & 28 \\\\ 33 & -48 & -53 & -36 & -60 \\\\ -68 & 48 & -66 & -41 & -70 \\\\ 36 & -30 & -64 & 14 & -26 \\\\ 41 & 20 & -57 & 0 & -3 \\end{array}\\right)</script><br/><br/><script type=\"math/tex\">C=\\left[89, -64, 18, -49, 81, 25, 35\\right]</script>"
      ],
      "text/plain": [
       "<script type=\"math/tex\">A=\\left(\\begin{array}{rrrrr} 12 & 19 & -57 & 19 & 28 \\\\ 33 & -48 & -53 & -36 & -60 \\\\ -68 & 48 & -66 & -41 & -70 \\\\ 36 & -30 & -64 & 14 & -26 \\\\ 41 & 20 & -57 & 0 & -3 \\end{array}\\right)</script><br/><br/><script type=\"math/tex\">C=\\left[89, -64, 18, -49, 81, 25, 35\\right]</script>"
      ]
     },
     "metadata": {},
     "output_type": "display_data"
    },
    {
     "data": {
      "text/html": [
       "<br/>=-=-=-=-=-=-=-=-=-=-=-=-=-=-=-=-=-=-=-=-=-=-=-=-=-=-=-=-=-=-"
      ],
      "text/plain": [
       "<br/>=-=-=-=-=-=-=-=-=-=-=-=-=-=-=-=-=-=-=-=-=-=-=-=-=-=-=-=-=-=-"
      ]
     },
     "metadata": {},
     "output_type": "display_data"
    },
    {
     "data": {
      "text/html": [
       "<br/>C=[359, 206, 288, 221, 351, 295, 305]; Q=270; S=113; Q>S: True"
      ],
      "text/plain": [
       "<br/>C=[359, 206, 288, 221, 351, 295, 305]; Q=270; S=113; Q>S: True"
      ]
     },
     "metadata": {},
     "output_type": "display_data"
    }
   ],
   "source": [
    "#21\n",
    "N1=5; A=random_matrix(ZZ,N1,x=-70,y=50)\n",
    "N2=7; C=sample(range(-100,100),N2)\n",
    "pretty_print(html(r'$A=%s$<br/><br/>$C=%s$'%\\\n",
    "                  (latex(A),latex(C))))\n",
    "def check_matrix_vector(a,c,n1,n2):\n",
    "    ind=Permutations(2*list(range(n1)),2).list()\n",
    "    q=sum([a[i,j] for [i,j] in ind if a[i,j]>0])\n",
    "    s=sum([abs(c[k]) for k in range(n2) if c[k]<0])\n",
    "    if q>s: c=[c[k]+q for k in range(n2)]\n",
    "    return c,q,s\n",
    "C,Q,S=check_matrix_vector(A,C,N1,N2)\n",
    "pretty_print(html(r'<br/>'+30*'=-'))\n",
    "pretty_print(html(r'<br/>C=%s; Q=%s; S=%s; Q>S: %s'%\\\n",
    "                  (C,Q,S,Q>S)))"
   ]
  },
  {
   "cell_type": "code",
   "execution_count": 18,
   "metadata": {},
   "outputs": [
    {
     "data": {
      "text/html": [
       "<script type=\"math/tex\">A=\\left(\\begin{array}{rrrrr} -2.3 & -2.3 & -2.8 & -4.7 & -1.5 \\\\ 1.2 & -6.0 & 5.5 & 7.8 & -6.7 \\\\ -3.7 & -7.7 & 7.5 & 6.8 & 10. \\\\ 6.8 & 6.0 & 0.27 & -4.6 & -9.7 \\\\ 3.8 & 6.8 & 8.2 & -1.5 & 0.54 \\end{array}\\right)</script><br/><br/><script type=\"math/tex\">C=\\left[0.6, 0.9, 0.3, 0.5, 0.7\\right]</script>"
      ],
      "text/plain": [
       "<script type=\"math/tex\">A=\\left(\\begin{array}{rrrrr} -2.3 & -2.3 & -2.8 & -4.7 & -1.5 \\\\ 1.2 & -6.0 & 5.5 & 7.8 & -6.7 \\\\ -3.7 & -7.7 & 7.5 & 6.8 & 10. \\\\ 6.8 & 6.0 & 0.27 & -4.6 & -9.7 \\\\ 3.8 & 6.8 & 8.2 & -1.5 & 0.54 \\end{array}\\right)</script><br/><br/><script type=\"math/tex\">C=\\left[0.6, 0.9, 0.3, 0.5, 0.7\\right]</script>"
      ]
     },
     "metadata": {},
     "output_type": "display_data"
    },
    {
     "data": {
      "text/html": [
       "<script type=\"math/tex\">C=\\left[0.6, 0.9, 0.3, 0.5, 0.7\\right]</script>"
      ],
      "text/plain": [
       "<script type=\"math/tex\">C=\\left[0.6, 0.9, 0.3, 0.5, 0.7\\right]</script>"
      ]
     },
     "metadata": {},
     "output_type": "display_data"
    }
   ],
   "source": [
    "#22\n",
    "#Если в последовательности C1, C2, …, C5 имеются равные элементы, \n",
    "#изменить значения всех ее элементов по правилу: Ci:=Ci+Aii.\n",
    "N1=5; S=False; A=N(10*random_matrix(RR,N1),digits=2)\n",
    "N2=5; CN=[]; C=[round(random(),1) for i in range(N2)]\n",
    "pretty_print(html(r'$A=%s$<br/><br/>$C=%s$'%\\\n",
    "                  (latex(A),latex(C))))\n",
    "for i in range(N1):\n",
    "    CN.append(C[i]+A[i,i])\n",
    "    for j in range(i,N1):\n",
    "        if C[i]==C[j] and i!=j: S=True\n",
    "if S: C=CN\n",
    "pretty_print(html(r'$C=%s$'%latex(C)))"
   ]
  },
  {
   "cell_type": "code",
   "execution_count": null,
   "metadata": {},
   "outputs": [],
   "source": []
  }
 ],
 "metadata": {
  "kernelspec": {
   "display_name": "SageMath 8.8",
   "language": "sage",
   "name": "sagemath"
  },
  "language_info": {
   "codemirror_mode": {
    "name": "ipython",
    "version": 2
   },
   "file_extension": ".py",
   "mimetype": "text/x-python",
   "name": "python",
   "nbconvert_exporter": "python",
   "pygments_lexer": "ipython2",
   "version": "2.7.15"
  }
 },
 "nbformat": 4,
 "nbformat_minor": 2
}
