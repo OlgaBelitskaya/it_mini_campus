{
 "cells": [
  {
   "cell_type": "code",
   "execution_count": 1,
   "metadata": {},
   "outputs": [
    {
     "data": {
      "text/html": [
       "<style>\n",
       "@import url('https://fonts.googleapis.com/css?family=Orbitron');\n",
       "h1, h2 {color:#3636ff; font-size:110%; font-family:'Orbitron'; text-shadow:5px 5px 5px #aaa;}\n",
       "p, a {color:darkblue; font-size:120%; text-shadow:5px 5px 5px #aaa;}\n",
       "</style>"
      ],
      "text/plain": [
       "<IPython.core.display.HTML object>"
      ]
     },
     "metadata": {},
     "output_type": "display_data"
    }
   ],
   "source": [
    "%%html\n",
    "<style>\n",
    "@import url('https://fonts.googleapis.com/css?family=Orbitron');\n",
    "h1, h2 {color:#3636ff; font-size:110%; font-family:'Orbitron'; text-shadow:5px 5px 5px #aaa;}\n",
    "p, a {color:darkblue; font-size:120%; text-shadow:5px 5px 5px #aaa;}\n",
    "</style>"
   ]
  },
  {
   "cell_type": "markdown",
   "metadata": {},
   "source": [
    "# Top-Down Programming for Array Processing\n",
    "Create an algorithm and a program"
   ]
  },
  {
   "cell_type": "code",
   "execution_count": 2,
   "metadata": {},
   "outputs": [
    {
     "data": {
      "text/html": [
       "<script type=\"math/tex\">A=\\left(\\begin{array}{rrrrr} 49 & 37 & 15 & -69 & -37 \\\\ 5 & -65 & -26 & 16 & 24 \\\\ -27 & -62 & -3 & -32 & 22 \\\\ -11 & 5 & 7 & -40 & 41 \\\\ -58 & 12 & -46 & -50 & -36 \\end{array}\\right)</script><br/><br/><script type=\"math/tex\">C=\\left[99, 30, -65, -10, -28, 63, -71\\right]</script>"
      ],
      "text/plain": [
       "<script type=\"math/tex\">A=\\left(\\begin{array}{rrrrr} 49 & 37 & 15 & -69 & -37 \\\\ 5 & -65 & -26 & 16 & 24 \\\\ -27 & -62 & -3 & -32 & 22 \\\\ -11 & 5 & 7 & -40 & 41 \\\\ -58 & 12 & -46 & -50 & -36 \\end{array}\\right)</script><br/><br/><script type=\"math/tex\">C=\\left[99, 30, -65, -10, -28, 63, -71\\right]</script>"
      ]
     },
     "metadata": {},
     "output_type": "display_data"
    },
    {
     "data": {
      "text/html": [
       "<br/>=-=-=-=-=-=-=-=-=-=-=-=-=-=-=-=-=-=-=-=-=-=-=-=-=-=-=-=-=-=-"
      ],
      "text/plain": [
       "<br/>=-=-=-=-=-=-=-=-=-=-=-=-=-=-=-=-=-=-=-=-=-=-=-=-=-=-=-=-=-=-"
      ]
     },
     "metadata": {},
     "output_type": "display_data"
    },
    {
     "data": {
      "text/html": [
       "<br/>C=[332, 263, 168, 223, 205, 296, 162]; Q=233; S=174; Q>S: True"
      ],
      "text/plain": [
       "<br/>C=[332, 263, 168, 223, 205, 296, 162]; Q=233; S=174; Q>S: True"
      ]
     },
     "metadata": {},
     "output_type": "display_data"
    }
   ],
   "source": [
    "#21\n",
    "N1=5; A=random_matrix(ZZ,N1,x=-70,y=50)\n",
    "N2=7; C=sample(range(-100,100),7)\n",
    "pretty_print(html('$A=%s$<br/><br/>$C=%s$'%(latex(A),latex(C))))\n",
    "def check_matrix_vector(a,c,n1,n2):\n",
    "    ind=Permutations(2*range(n1),2).list()\n",
    "    q=sum([a[i,j] for [i,j] in ind if a[i,j]>0])\n",
    "    s=sum([abs(c[k]) for k in range(n2) if c[k]<0])\n",
    "    if q>s: c=[c[k]+q for k in range(n2)]\n",
    "    return c,q,s\n",
    "C,Q,S=check_matrix_vector(A,C,N1,N2)\n",
    "pretty_print(html('<br/>'+30*'=-'))\n",
    "pretty_print(html('<br/>C=%s; Q=%s; S=%s; Q>S: %s'%(C,Q,S,Q>S)))"
   ]
  }
 ],
 "metadata": {
  "kernelspec": {
   "display_name": "SageMath 8.8",
   "language": "sage",
   "name": "sagemath"
  },
  "language_info": {
   "codemirror_mode": {
    "name": "ipython",
    "version": 2
   },
   "file_extension": ".py",
   "mimetype": "text/x-python",
   "name": "python",
   "nbconvert_exporter": "python",
   "pygments_lexer": "ipython2",
   "version": "2.7.15"
  }
 },
 "nbformat": 4,
 "nbformat_minor": 2
}
