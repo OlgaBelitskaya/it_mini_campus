{
 "cells": [
  {
   "cell_type": "code",
   "execution_count": 1,
   "metadata": {},
   "outputs": [
    {
     "data": {
      "text/html": [
       "<style>\n",
       "@import url('https://fonts.googleapis.com/css?family=Orbitron');\n",
       "h1, h2 {color:#3636ff; font-size:110%; font-family:'Orbitron'; text-shadow:5px 5px 5px #aaa;}\n",
       "p, a {color:darkblue; font-size:120%; text-shadow:5px 5px 5px #aaa;}\n",
       "</style>"
      ],
      "text/plain": [
       "<IPython.core.display.HTML object>"
      ]
     },
     "metadata": {},
     "output_type": "display_data"
    }
   ],
   "source": [
    "%%html\n",
    "<style>\n",
    "@import url('https://fonts.googleapis.com/css?family=Orbitron');\n",
    "h1,h2 {color:#3636ff; font-size:110%; font-family:'Orbitron'; text-shadow:5px 5px 5px #aaa;}\n",
    "p,a {color:darkblue; font-size:120%; text-shadow:5px 5px 5px #aaa;}\n",
    "</style>"
   ]
  },
  {
   "cell_type": "markdown",
   "metadata": {},
   "source": [
    "# Top-Down Programming for Array Processing\n",
    "Create an algorithm and a program for 5x5 matrices or arrays. <br/> \n",
    "Разработать алгоритм и программу нисходящим способом, <br/>\n",
    "предполагая заданной матрицу А из 5 строк и 5 столбцов <br/>\n",
    "или одномерные массивы указанной длины.\n",
    "\n",
    "🌀 [Compile Pascal Online](https://www.tutorialspoint.com/compile_pascal_online.php)"
   ]
  },
  {
   "cell_type": "code",
   "execution_count": 3,
   "metadata": {},
   "outputs": [
    {
     "data": {
      "text/html": [
       "<script type=\"math/tex\">A=\\left(\\begin{array}{rrrrr} 12 & 19 & -57 & 19 & 28 \\\\ 33 & -48 & -53 & -36 & -60 \\\\ -68 & 48 & -66 & -41 & -70 \\\\ 36 & -30 & -64 & 14 & -26 \\\\ 41 & 20 & -57 & 0 & -3 \\end{array}\\right)</script><br/><br/><script type=\"math/tex\">C=\\left[89, -64, 18, -49, 81, 25, 35\\right]</script>"
      ],
      "text/plain": [
       "<script type=\"math/tex\">A=\\left(\\begin{array}{rrrrr} 12 & 19 & -57 & 19 & 28 \\\\ 33 & -48 & -53 & -36 & -60 \\\\ -68 & 48 & -66 & -41 & -70 \\\\ 36 & -30 & -64 & 14 & -26 \\\\ 41 & 20 & -57 & 0 & -3 \\end{array}\\right)</script><br/><br/><script type=\"math/tex\">C=\\left[89, -64, 18, -49, 81, 25, 35\\right]</script>"
      ]
     },
     "metadata": {},
     "output_type": "display_data"
    },
    {
     "data": {
      "text/html": [
       "<br/>=-=-=-=-=-=-=-=-=-=-=-=-=-=-=-=-=-=-=-=-=-=-=-=-=-=-=-=-=-=-"
      ],
      "text/plain": [
       "<br/>=-=-=-=-=-=-=-=-=-=-=-=-=-=-=-=-=-=-=-=-=-=-=-=-=-=-=-=-=-=-"
      ]
     },
     "metadata": {},
     "output_type": "display_data"
    },
    {
     "data": {
      "text/html": [
       "<br/>C=[359, 206, 288, 221, 351, 295, 305]; Q=270; S=113; Q>S: True"
      ],
      "text/plain": [
       "<br/>C=[359, 206, 288, 221, 351, 295, 305]; Q=270; S=113; Q>S: True"
      ]
     },
     "metadata": {},
     "output_type": "display_data"
    }
   ],
   "source": [
    "#21\n",
    "N1=5; A=random_matrix(ZZ,N1,x=-70,y=50)\n",
    "N2=7; C=sample(range(-100,100),N2)\n",
    "pretty_print(html(r'$A=%s$<br/><br/>$C=%s$'%\\\n",
    "                  (latex(A),latex(C))))\n",
    "def check_matrix_vector(a,c,n1,n2):\n",
    "    ind=Permutations(2*list(range(n1)),2).list()\n",
    "    q=sum([a[i,j] for [i,j] in ind if a[i,j]>0])\n",
    "    s=sum([abs(c[k]) for k in range(n2) if c[k]<0])\n",
    "    if q>s: c=[c[k]+q for k in range(n2)]\n",
    "    return c,q,s\n",
    "C,Q,S=check_matrix_vector(A,C,N1,N2)\n",
    "pretty_print(html(r'<br/>'+30*'=-'))\n",
    "pretty_print(html(r'<br/>C=%s; Q=%s; S=%s; Q>S: %s'%\\\n",
    "                  (C,Q,S,Q>S)))"
   ]
  },
  {
   "cell_type": "code",
   "execution_count": 19,
   "metadata": {},
   "outputs": [
    {
     "data": {
      "text/html": [
       "<script type=\"math/tex\">A=\\left(\\begin{array}{rrrrr} 8.0 & -6.9 & -1.4 & -6.2 & 5.5 \\\\ -4.7 & 8.9 & -6.3 & -4.1 & 6.6 \\\\ -5.6 & 4.4 & 2.7 & -0.62 & 8.5 \\\\ 3.0 & -6.5 & -4.1 & 6.3 & 0.17 \\\\ -9.9 & -1.8 & 7.3 & -2.0 & 7.9 \\end{array}\\right)</script><br/><br/><script type=\"math/tex\">C=\\left[0.8, 0.8, 0.4, 0.4, 0.2\\right]</script>"
      ],
      "text/plain": [
       "<script type=\"math/tex\">A=\\left(\\begin{array}{rrrrr} 8.0 & -6.9 & -1.4 & -6.2 & 5.5 \\\\ -4.7 & 8.9 & -6.3 & -4.1 & 6.6 \\\\ -5.6 & 4.4 & 2.7 & -0.62 & 8.5 \\\\ 3.0 & -6.5 & -4.1 & 6.3 & 0.17 \\\\ -9.9 & -1.8 & 7.3 & -2.0 & 7.9 \\end{array}\\right)</script><br/><br/><script type=\"math/tex\">C=\\left[0.8, 0.8, 0.4, 0.4, 0.2\\right]</script>"
      ]
     },
     "metadata": {},
     "output_type": "display_data"
    },
    {
     "data": {
      "text/html": [
       "<script type=\"math/tex\">C=\\left[8.8, 9.7, 3.1, 6.7, 8.1\\right]</script>"
      ],
      "text/plain": [
       "<script type=\"math/tex\">C=\\left[8.8, 9.7, 3.1, 6.7, 8.1\\right]</script>"
      ]
     },
     "metadata": {},
     "output_type": "display_data"
    }
   ],
   "source": [
    "#22\n",
    "#Если в последовательности C1, C2, …, C5 имеются равные элементы, \n",
    "#изменить значения всех ее элементов по правилу: Ci:=Ci+Aii.\n",
    "N1=5; S=False; A=N(10*random_matrix(RR,N1),digits=2)\n",
    "N2=5; CN=[]; C=[round(random(),1) for i in range(N2)]\n",
    "pretty_print(html(r'$A=%s$<br/><br/>$C=%s$'%\\\n",
    "                  (latex(A),latex(C))))\n",
    "for i in range(N1):\n",
    "    CN.append(C[i]+A[i,i])\n",
    "    for j in range(i+1,N1):\n",
    "        if C[i]==C[j]: S=True\n",
    "if S: C=CN\n",
    "pretty_print(html(r'$C=%s$'%latex(C)))"
   ]
  },
  {
   "cell_type": "code",
   "execution_count": null,
   "metadata": {},
   "outputs": [],
   "source": [
    "#22 Pascal\n",
    "Program Lab13;\n",
    "type ReArr=array [0..1000] of real;\n",
    "var C,CN: ReArr;\n",
    "var i,j: integer;\n",
    "var c1,c2: boolean;\n",
    "var SC,SA,SCN,st: string;\n",
    "function st2ar(a:string;n:integer): ReArr;\n",
    "var k: integer;\n",
    "var x: real;\n",
    "var ka: string;\n",
    "begin\n",
    "    st2ar[n]:=0;\n",
    "    for k:=1 to n do\n",
    "    begin \n",
    "        if k=n then ka:=a else \n",
    "            ka:=copy(a,1,pos(' ',a)-1); \n",
    "        val(ka,x); delete(a,1,pos(' ',a));\n",
    "        if ((x<>0) or ((x=0) and (ka='0'))) then\n",
    "            st2ar[k-1]:=x\n",
    "        else\n",
    "        begin\n",
    "            st2ar[n]:=1; break;\n",
    "        end;\n",
    "    end;\n",
    "end;\n",
    "begin\n",
    "    writeln('Лаб.13':38);\n",
    "    c1:=true; c2:=false; SCN:='';\n",
    "    readln(SC); C:=st2ar(SC,5);\n",
    "    writeln('Исходный массив C: ',SC);\n",
    "    if C[5]=1 then c1:=false; \n",
    "    writeln('Матрица A: ');\n",
    "    for i:=1 to 5 do\n",
    "    begin \n",
    "        readln(SA); writeln(SA); \n",
    "        CN[i-1]:=st2ar(SA,5)[i-1];\n",
    "        if st2ar(SA,5)[5]=1 then c1:=false;\n",
    "        CN[i-1]:=CN[i-1]+C[i-1];\n",
    "        str(CN[i-1]:5:2,st); SCN:=concat(SCN,st);        \n",
    "        for j:=1 to 5 do\n",
    "        begin\n",
    "            if ((i>j) and (C[i-1]=C[j-1])) then\n",
    "                c2:=true;\n",
    "        end;\n",
    "    end;\n",
    "    if c2 then SC:=SCN;\n",
    "    if c1 then writeln('Полученный массив C: ',SC)\n",
    "    else writeln('Данные не корректны');\n",
    "end."
   ]
  }
 ],
 "metadata": {
  "kernelspec": {
   "display_name": "SageMath 8.8",
   "language": "sage",
   "name": "sagemath"
  },
  "language_info": {
   "codemirror_mode": {
    "name": "ipython",
    "version": 2
   },
   "file_extension": ".py",
   "mimetype": "text/x-python",
   "name": "python",
   "nbconvert_exporter": "python",
   "pygments_lexer": "ipython2",
   "version": "2.7.15"
  }
 },
 "nbformat": 4,
 "nbformat_minor": 2
}
