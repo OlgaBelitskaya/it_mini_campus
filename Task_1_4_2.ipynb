{
 "cells": [
  {
   "cell_type": "code",
   "execution_count": 1,
   "metadata": {},
   "outputs": [
    {
     "data": {
      "text/html": [
       "<style>\n",
       "@import url('https://fonts.googleapis.com/css?family=Orbitron');\n",
       "h1, h2 {color:#3636ff; font-size:110%; font-family:'Orbitron'; text-shadow:5px 5px 5px #aaa;}\n",
       "p, a {color:darkblue; font-size:120%; text-shadow:5px 5px 5px #aaa;}\n",
       "</style>"
      ],
      "text/plain": [
       "<IPython.core.display.HTML object>"
      ]
     },
     "metadata": {},
     "output_type": "display_data"
    }
   ],
   "source": [
    "%%html\n",
    "<style>\n",
    "@import url('https://fonts.googleapis.com/css?family=Orbitron');\n",
    "h1, h2 {color:#3636ff; font-size:110%; font-family:'Orbitron'; text-shadow:5px 5px 5px #aaa;}\n",
    "p, a {color:darkblue; font-size:120%; text-shadow:5px 5px 5px #aaa;}\n",
    "</style>"
   ]
  },
  {
   "cell_type": "markdown",
   "metadata": {},
   "source": [
    "# Processing One-Dimensional Arrays \n",
    "# in a Single Cycle and Branches of Conditions\n",
    "Create an algorithm and a program"
   ]
  },
  {
   "cell_type": "code",
   "execution_count": 6,
   "metadata": {},
   "outputs": [
    {
     "name": "stdout",
     "output_type": "stream",
     "text": [
      "input: \n",
      "[26.52, 0.03, -46.26, -29.4, -25.32, 45.81, 29.06, 16.04, -17.5, 25.79, 28.77, 33.55, 16.43, -39.15, 12.36, -41.83, -30.63, -22.5, 21.06, -46.81]\n",
      "result: \n",
      "[26.52, 0.01, -46.26, -29.4, -25.32, 7.64, 4.15, 2.0, -17.5, 2.58, 2.62, 2.8, 1.26, -39.15, 0.82, -41.83, -30.63, -22.5, 1.11, -46.81]\n",
      "number of negative elements: 9\n"
     ]
    }
   ],
   "source": [
    "#20\n",
    "N=20; c=0\n",
    "X=[round(random()*100-50,2) for i in [0..N-1]]\n",
    "print('input: \\n%s'%str(X))\n",
    "for i in [0..N-1]:\n",
    "    if X[i]>=0: X[i]=round(X[i]/(i+1),2)\n",
    "    else: c+=1\n",
    "print('result: \\n%s'%str(X))\n",
    "print('number of negative elements: %d'%c)"
   ]
  },
  {
   "cell_type": "code",
   "execution_count": 7,
   "metadata": {},
   "outputs": [
    {
     "name": "stdout",
     "output_type": "stream",
     "text": [
      "[-9.94, 18.9, -24.48, 47.8, -38.7, 18.97, -31.17, -27.25, 16.97, -11.05, 26.34, 43.94, 22.26, -7.81, -14.34, -1.76, 6.53, 45.58, 31.52, 28.69, -34.67]\n",
      "[34.96, -18.78, 40.77, 36.15, -12.46, 11.21, -29.97, 48.13, 4.69, -1.22, -41.32, -5.21, 16.89, 34.52, -10.35, 1.19, -41.46, -18.2, 3.94, -29.78, -48.58]\n",
      "result: [34.96, 18.9, 40.77, 47.8, -12.46, 18.97, -29.97, 48.13, 16.97, -1.22, 26.34, 43.94, 22.26, 34.52, -10.35, 1.19, 6.53, 45.58, 31.52, 28.69, -48.58]\n",
      "number of replacements: 10\n"
     ]
    }
   ],
   "source": [
    "#21\n",
    "N=20; T=[]; c=0\n",
    "X=[round(random()*100-50,2) for i in [0..N]]; print(X)\n",
    "Y=[round(random()*100-50,2) for i in [0..N]]; print(Y)\n",
    "for i in [0..N]:\n",
    "    if X[i]>0: T.append(X[i])\n",
    "    else: T.append(Y[i]); c+=1\n",
    "print('result: %s'%str(T))\n",
    "print('number of replacements: %d'%c)"
   ]
  },
  {
   "cell_type": "code",
   "execution_count": 8,
   "metadata": {},
   "outputs": [
    {
     "name": "stdout",
     "output_type": "stream",
     "text": [
      "[36.56, 4.79, 24.3, 40.36, 16.02, 14.53, -20.8, -26.04, 39.85, 3.12, 34.11, 44.09, -34.55, -33.31, -49.22, -21.06, 30.88, -44.54, -29.81, 2.4, -25.53]\n",
      "[-7.35, 30.49, 32.83, 41.38, -32.45, 25.09, -14.79, 2.12, 35.82, -13.58, -37.62, -16.41, -4.75, 33.76, -4.58, -0.35, 49.87, -22.55, 11.63, 37.93, -18.9]\n",
      "result: [36.56, 30.49, 32.83, 41.38, 16.02, 25.09, -14.79, 2.12, 39.85, 3.12, 34.11, 44.09, -4.75, 33.76, -4.58, -0.35, 49.87, -22.55, 11.63, 37.93, -18.9]\n",
      "number of coincidences: 6\n"
     ]
    }
   ],
   "source": [
    "#22\n",
    "N=20; T=[]; c=0\n",
    "X=[round(random()*100-50,2) for i in [0..N]]; print(X)\n",
    "Y=[round(random()*100-50,2) for i in [0..N]]; print(Y)\n",
    "for i in [0..N]:\n",
    "    T.append(max(X[i],Y[i])); c+=int(T[i]==X[i])\n",
    "print('result: %s'%str(T))\n",
    "print('number of coincidences: %d'%c)"
   ]
  }
 ],
 "metadata": {
  "kernelspec": {
   "display_name": "SageMath 8.8",
   "language": "sage",
   "name": "sagemath"
  },
  "language_info": {
   "codemirror_mode": {
    "name": "ipython",
    "version": 2
   },
   "file_extension": ".py",
   "mimetype": "text/x-python",
   "name": "python",
   "nbconvert_exporter": "python",
   "pygments_lexer": "ipython2",
   "version": "2.7.15"
  }
 },
 "nbformat": 4,
 "nbformat_minor": 2
}
