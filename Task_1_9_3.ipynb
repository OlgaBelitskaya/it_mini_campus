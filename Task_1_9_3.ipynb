{
 "cells": [
  {
   "cell_type": "code",
   "execution_count": 1,
   "metadata": {},
   "outputs": [
    {
     "data": {
      "text/html": [
       "<style>\n",
       "@import url('https://fonts.googleapis.com/css?family=Orbitron');\n",
       "h1, h2 {color:#3636ff; font-size:110%; font-family:'Orbitron'; text-shadow:5px 5px 5px #aaa;}\n",
       "p, a {color:darkblue; font-size:120%; text-shadow:5px 5px 5px #aaa;}\n",
       "</style>"
      ],
      "text/plain": [
       "<IPython.core.display.HTML object>"
      ]
     },
     "metadata": {},
     "output_type": "display_data"
    }
   ],
   "source": [
    "%%html\n",
    "<style>\n",
    "@import url('https://fonts.googleapis.com/css?family=Orbitron');\n",
    "h1, h2 {color:#3636ff; font-size:110%; font-family:'Orbitron'; text-shadow:5px 5px 5px #aaa;}\n",
    "p, a {color:darkblue; font-size:120%; text-shadow:5px 5px 5px #aaa;}\n",
    "</style>"
   ]
  },
  {
   "cell_type": "markdown",
   "metadata": {},
   "source": [
    "# Tabulating of Function Values under Certain Conditions\n",
    "Calculate chosen 20 values of an integer function f(K) for an integer argument K in the segment (-30,60).\n",
    "\n",
    "Display those values which have satisfied conditions and the number of other values among chosen 20."
   ]
  },
  {
   "cell_type": "code",
   "execution_count": 9,
   "metadata": {},
   "outputs": [
    {
     "data": {
      "text/html": [
       "<script type=\"math/tex\">f(k)=k^3 - 25*k^2 + 50*k + 1000</script>"
      ],
      "text/plain": [
       "<script type=\"math/tex\">f(k)=k^3 - 25*k^2 + 50*k + 1000</script>"
      ]
     },
     "metadata": {},
     "output_type": "display_data"
    },
    {
     "data": {
      "text/html": [
       "<html><script type=\"math/tex; mode=display\">\\newcommand{\\Bold}[1]{\\mathbf{#1}}\\verb|K=[21,|\\phantom{\\verb!x!}\\verb|28,|\\phantom{\\verb!x!}\\verb|-14,|\\phantom{\\verb!x!}\\verb|14,|\\phantom{\\verb!x!}\\verb|40,|\\phantom{\\verb!x!}\\verb|13,|\\phantom{\\verb!x!}\\verb|-16,|\\phantom{\\verb!x!}\\verb|34,|\\phantom{\\verb!x!}\\verb|32,|\\phantom{\\verb!x!}\\verb|46,|\\phantom{\\verb!x!}\\verb|26,|\\phantom{\\verb!x!}\\verb|24,|\\phantom{\\verb!x!}\\verb|35,|\\phantom{\\verb!x!}\\verb|8,|\\phantom{\\verb!x!}\\verb|3,|\\phantom{\\verb!x!}\\verb|38,|\\phantom{\\verb!x!}\\verb|0,|\\phantom{\\verb!x!}\\verb|6,|\\phantom{\\verb!x!}\\verb|-22,|\\phantom{\\verb!x!}\\verb|-18]|</script></html>"
      ],
      "text/plain": [
       "'K=[21, 28, -14, 14, 40, 13, -16, 34, 32, 46, 26, 24, 35, 8, 3, 38, 0, 6, -22, -18]'"
      ]
     },
     "metadata": {},
     "output_type": "display_data"
    },
    {
     "data": {
      "text/html": [
       "<div class=\"notruncate\">\n",
       "<table  class=\"table_form\">\n",
       "<tbody>\n",
       "<tr class =\"row-a\">\n",
       "<td>k</td>\n",
       "<td>f(k)</td>\n",
       "</tr>\n",
       "<tr class =\"row-b\">\n",
       "<td><script type=\"math/tex\">21</script></td>\n",
       "<td><script type=\"math/tex\">286</script></td>\n",
       "</tr>\n",
       "<tr class =\"row-a\">\n",
       "<td><script type=\"math/tex\">28</script></td>\n",
       "<td><script type=\"math/tex\">4752</script></td>\n",
       "</tr>\n",
       "<tr class =\"row-b\">\n",
       "<td><script type=\"math/tex\">40</script></td>\n",
       "<td><script type=\"math/tex\">27000</script></td>\n",
       "</tr>\n",
       "<tr class =\"row-a\">\n",
       "<td><script type=\"math/tex\">34</script></td>\n",
       "<td><script type=\"math/tex\">13104</script></td>\n",
       "</tr>\n",
       "<tr class =\"row-b\">\n",
       "<td><script type=\"math/tex\">32</script></td>\n",
       "<td><script type=\"math/tex\">9768</script></td>\n",
       "</tr>\n",
       "<tr class =\"row-a\">\n",
       "<td><script type=\"math/tex\">46</script></td>\n",
       "<td><script type=\"math/tex\">47736</script></td>\n",
       "</tr>\n",
       "<tr class =\"row-b\">\n",
       "<td><script type=\"math/tex\">26</script></td>\n",
       "<td><script type=\"math/tex\">2976</script></td>\n",
       "</tr>\n",
       "<tr class =\"row-a\">\n",
       "<td><script type=\"math/tex\">24</script></td>\n",
       "<td><script type=\"math/tex\">1624</script></td>\n",
       "</tr>\n",
       "<tr class =\"row-b\">\n",
       "<td><script type=\"math/tex\">35</script></td>\n",
       "<td><script type=\"math/tex\">15000</script></td>\n",
       "</tr>\n",
       "<tr class =\"row-a\">\n",
       "<td><script type=\"math/tex\">8</script></td>\n",
       "<td><script type=\"math/tex\">312</script></td>\n",
       "</tr>\n",
       "<tr class =\"row-b\">\n",
       "<td><script type=\"math/tex\">3</script></td>\n",
       "<td><script type=\"math/tex\">952</script></td>\n",
       "</tr>\n",
       "<tr class =\"row-a\">\n",
       "<td><script type=\"math/tex\">38</script></td>\n",
       "<td><script type=\"math/tex\">21672</script></td>\n",
       "</tr>\n",
       "<tr class =\"row-b\">\n",
       "<td><script type=\"math/tex\">0</script></td>\n",
       "<td><script type=\"math/tex\">1000</script></td>\n",
       "</tr>\n",
       "<tr class =\"row-a\">\n",
       "<td><script type=\"math/tex\">6</script></td>\n",
       "<td><script type=\"math/tex\">616</script></td>\n",
       "</tr>\n",
       "<tr class =\"row-b\">\n",
       "<td><script type=\"math/tex\">-22</script></td>\n",
       "<td><script type=\"math/tex\">-22848</script></td>\n",
       "</tr>\n",
       "</tbody>\n",
       "</table>\n",
       "</div>"
      ],
      "text/plain": [
       "  k     f(k)\n",
       "  21    286\n",
       "  28    4752\n",
       "  40    27000\n",
       "  34    13104\n",
       "  32    9768\n",
       "  46    47736\n",
       "  26    2976\n",
       "  24    1624\n",
       "  35    15000\n",
       "  8     312\n",
       "  3     952\n",
       "  38    21672\n",
       "  0     1000\n",
       "  6     616\n",
       "  -22   -22848"
      ]
     },
     "metadata": {},
     "output_type": "display_data"
    },
    {
     "data": {
      "text/html": [
       "<left>Number of others: 5</left>"
      ],
      "text/plain": [
       "<left>Number of others: 5</left>"
      ]
     },
     "metadata": {},
     "output_type": "display_data"
    }
   ],
   "source": [
    "def F(k): return k^3-25*k^2+50*k+1000\n",
    "def create_table(values,cond,a,b,m):\n",
    "    t=[['k','f(k)']]; c=0; s='<left>Number of others: %d</left>'\n",
    "    for k in values:\n",
    "        if cond(F(k),a,b,m): t.append([k,F(k)])\n",
    "        else: c+=1\n",
    "    show(table(t)); pretty_print(html(s%c))\n",
    "def C21(v,a,b,m):\n",
    "    if (v<=abs(a+b+m))&(v<0)&(v<-(a+b)/m): return True\n",
    "    if (v<=abs(a+b+m))&(v>=0): return True\n",
    "    return False\n",
    "A,B,M=3*10^4,6*10^4,4; k1,k2=-30,60; \n",
    "var('k'); pretty_print(html('$f(k)=%s$'%str(k^3-25*k^2+50*k+1000))) \n",
    "K=sample(range(k1,k2),20); pretty_print('K=%s'%str(K))\n",
    "create_table(K,C21,A,B,M)"
   ]
  }
 ],
 "metadata": {
  "kernelspec": {
   "display_name": "SageMath 8.8",
   "language": "sage",
   "name": "sagemath"
  },
  "language_info": {
   "codemirror_mode": {
    "name": "ipython",
    "version": 2
   },
   "file_extension": ".py",
   "mimetype": "text/x-python",
   "name": "python",
   "nbconvert_exporter": "python",
   "pygments_lexer": "ipython2",
   "version": "2.7.15"
  }
 },
 "nbformat": 4,
 "nbformat_minor": 2
}
