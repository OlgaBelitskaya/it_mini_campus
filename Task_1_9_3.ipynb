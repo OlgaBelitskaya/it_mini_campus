{
 "cells": [
  {
   "cell_type": "code",
   "execution_count": 1,
   "metadata": {},
   "outputs": [
    {
     "data": {
      "text/html": [
       "<style>\n",
       "@import url('https://fonts.googleapis.com/css?family=Orbitron');\n",
       "h1, h2 {color:#3636ff; font-size:110%; font-family:'Orbitron'; text-shadow:5px 5px 5px #aaa;}\n",
       "p, a {color:darkblue; font-size:120%; text-shadow:5px 5px 5px #aaa;}\n",
       "</style>"
      ],
      "text/plain": [
       "<IPython.core.display.HTML object>"
      ]
     },
     "metadata": {},
     "output_type": "display_data"
    }
   ],
   "source": [
    "%%html\n",
    "<style>\n",
    "@import url('https://fonts.googleapis.com/css?family=Orbitron');\n",
    "h1, h2 {color:#3636ff; font-size:110%; font-family:'Orbitron'; text-shadow:5px 5px 5px #aaa;}\n",
    "p, a {color:darkblue; font-size:120%; text-shadow:5px 5px 5px #aaa;}\n",
    "</style>"
   ]
  },
  {
   "cell_type": "markdown",
   "metadata": {},
   "source": [
    "# Tabulating of Function Values under Certain Conditions\n",
    "Calculate chosen 20 values of an integer function f(K) for an integer argument K in the segment (-30,60).\n",
    "\n",
    "Display those values which have satisfied conditions and the number of other values among chosen 20."
   ]
  },
  {
   "cell_type": "code",
   "execution_count": 1,
   "metadata": {},
   "outputs": [
    {
     "data": {
      "text/html": [
       "f(K)=K^3 - 25*K^2 + 50*K + 1000"
      ],
      "text/plain": [
       "f(K)=K^3 - 25*K^2 + 50*K + 1000"
      ]
     },
     "metadata": {},
     "output_type": "display_data"
    },
    {
     "data": {
      "text/html": [
       "K=[28, 25, 31, -5, -19, -15, -17, 19, 27, 43, -9, -6, 20, 6, 24, 15, 18, 33, -4, -13]"
      ],
      "text/plain": [
       "K=[28, 25, 31, -5, -19, -15, -17, 19, 27, 43, -9, -6, 20, 6, 24, 15, 18, 33, -4, -13]"
      ]
     },
     "metadata": {},
     "output_type": "display_data"
    },
    {
     "data": {
      "text/html": [
       "<div class=\"notruncate\">\n",
       "<table  class=\"table_form\">\n",
       "<tbody>\n",
       "<tr class =\"row-a\">\n",
       "<td>k</td>\n",
       "<td>f(k)</td>\n",
       "</tr>\n",
       "<tr class =\"row-b\">\n",
       "<td><script type=\"math/tex\">28</script></td>\n",
       "<td><script type=\"math/tex\">4752</script></td>\n",
       "</tr>\n",
       "<tr class =\"row-a\">\n",
       "<td><script type=\"math/tex\">25</script></td>\n",
       "<td><script type=\"math/tex\">2250</script></td>\n",
       "</tr>\n",
       "<tr class =\"row-b\">\n",
       "<td><script type=\"math/tex\">31</script></td>\n",
       "<td><script type=\"math/tex\">8316</script></td>\n",
       "</tr>\n",
       "<tr class =\"row-a\">\n",
       "<td><script type=\"math/tex\">-5</script></td>\n",
       "<td><script type=\"math/tex\">0</script></td>\n",
       "</tr>\n",
       "<tr class =\"row-b\">\n",
       "<td><script type=\"math/tex\">27</script></td>\n",
       "<td><script type=\"math/tex\">3808</script></td>\n",
       "</tr>\n",
       "<tr class =\"row-a\">\n",
       "<td><script type=\"math/tex\">43</script></td>\n",
       "<td><script type=\"math/tex\">36432</script></td>\n",
       "</tr>\n",
       "<tr class =\"row-b\">\n",
       "<td><script type=\"math/tex\">20</script></td>\n",
       "<td><script type=\"math/tex\">0</script></td>\n",
       "</tr>\n",
       "<tr class =\"row-a\">\n",
       "<td><script type=\"math/tex\">6</script></td>\n",
       "<td><script type=\"math/tex\">616</script></td>\n",
       "</tr>\n",
       "<tr class =\"row-b\">\n",
       "<td><script type=\"math/tex\">24</script></td>\n",
       "<td><script type=\"math/tex\">1624</script></td>\n",
       "</tr>\n",
       "<tr class =\"row-a\">\n",
       "<td><script type=\"math/tex\">33</script></td>\n",
       "<td><script type=\"math/tex\">11362</script></td>\n",
       "</tr>\n",
       "<tr class =\"row-b\">\n",
       "<td><script type=\"math/tex\">-4</script></td>\n",
       "<td><script type=\"math/tex\">336</script></td>\n",
       "</tr>\n",
       "</tbody>\n",
       "</table>\n",
       "</div>"
      ],
      "text/plain": [
       "  k    f(k)\n",
       "  28   4752\n",
       "  25   2250\n",
       "  31   8316\n",
       "  -5   0\n",
       "  27   3808\n",
       "  43   36432\n",
       "  20   0\n",
       "  6    616\n",
       "  24   1624\n",
       "  33   11362\n",
       "  -4   336"
      ]
     },
     "metadata": {},
     "output_type": "display_data"
    },
    {
     "data": {
      "text/html": [
       "<left>Number of others: 9</left>"
      ],
      "text/plain": [
       "<left>Number of others: 9</left>"
      ]
     },
     "metadata": {},
     "output_type": "display_data"
    }
   ],
   "source": [
    "def F(k): return k^3-25*k^2+50*k+1000\n",
    "def create_table(values,cond,a,b,m):\n",
    "    t=[['k','f(k)']]; c=0\n",
    "    s='<left>Number of others: %d</left>'\n",
    "    for k in values:\n",
    "        if cond(F(k),a,b,m): t.append([k,F(k)])\n",
    "        else: c+=1\n",
    "    show(table(t)); pretty_print(html(s%c))\n",
    "def C21(v,a,b,m):\n",
    "    c1=(abs(v)<=a+b+m)&(v<0)&(v<-(a+b)/m)\n",
    "    c2=(abs(v)<=a+b+m)&(v>=0)\n",
    "    if (c1 or c2): return True\n",
    "    return False\n",
    "N,A,B,M=20,3*10^4,6*10^4,4\n",
    "var('K'); K1,K2=-29,60 \n",
    "pretty_print(html('f(K)=%s'%str(K^3-25*K^2+50*K+1000)))\n",
    "K=sample(range(K1,K2),N)\n",
    "pretty_print(html('K=%s'%K))\n",
    "create_table(K,C21,A,B,M)"
   ]
  }
 ],
 "metadata": {
  "kernelspec": {
   "display_name": "SageMath 8.8",
   "language": "sage",
   "name": "sagemath"
  },
  "language_info": {
   "codemirror_mode": {
    "name": "ipython",
    "version": 2
   },
   "file_extension": ".py",
   "mimetype": "text/x-python",
   "name": "python",
   "nbconvert_exporter": "python",
   "pygments_lexer": "ipython2",
   "version": "2.7.15"
  }
 },
 "nbformat": 4,
 "nbformat_minor": 2
}
