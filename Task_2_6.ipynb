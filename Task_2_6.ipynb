{
 "cells": [
  {
   "cell_type": "code",
   "execution_count": 2,
   "metadata": {},
   "outputs": [
    {
     "data": {
      "text/html": [
       "<style>\n",
       "@import url('https://fonts.googleapis.com/css?family=Orbitron');\n",
       "h1, h2 {color:#3636ff; font-size:110%; font-family:'Orbitron'; text-shadow:5px 5px 5px #aaa;}\n",
       "p, a {color:darkblue; font-size:120%; text-shadow:5px 5px 5px #aaa;}\n",
       "</style>"
      ],
      "text/plain": [
       "<IPython.core.display.HTML object>"
      ]
     },
     "metadata": {},
     "output_type": "display_data"
    }
   ],
   "source": [
    "%%html\n",
    "<style>\n",
    "@import url('https://fonts.googleapis.com/css?family=Orbitron');\n",
    "h1, h2 {color:#3636ff; font-size:110%; font-family:'Orbitron'; text-shadow:5px 5px 5px #aaa;}\n",
    "p, a {color:darkblue; font-size:120%; text-shadow:5px 5px 5px #aaa;}\n",
    "</style>"
   ]
  },
  {
   "cell_type": "markdown",
   "metadata": {},
   "source": [
    "# Complex Conditions for Cycle Ending\n",
    "Create an algorithm and a program"
   ]
  },
  {
   "cell_type": "code",
   "execution_count": 5,
   "metadata": {},
   "outputs": [
    {
     "data": {
      "text/html": [
       "<html><script type=\"math/tex; mode=display\">\\newcommand{\\Bold}[1]{\\mathbf{#1}}\\verb|[a1,d,b1,q,r1,r2]=[48,|\\phantom{\\verb!x!}\\verb|9,|\\phantom{\\verb!x!}\\verb|23,|\\phantom{\\verb!x!}\\verb|3,|\\phantom{\\verb!x!}\\verb|7,|\\phantom{\\verb!x!}\\verb|7]|</script></html>"
      ],
      "text/plain": [
       "'[a1,d,b1,q,r1,r2]=[48, 9, 23, 3, 7, 7]'"
      ]
     },
     "metadata": {},
     "output_type": "display_data"
    },
    {
     "data": {
      "text/html": [
       "<html><script type=\"math/tex; mode=display\">\\newcommand{\\Bold}[1]{\\mathbf{#1}}\\left(\\begin{array}{rr}\n",
       "48 & 23 \\\\\n",
       "57 & 69 \\\\\n",
       "66 & 207 \\\\\n",
       "75 & 621 \\\\\n",
       "84 & 1863 \\\\\n",
       "93 & 5589 \\\\\n",
       "102 & 16767 \\\\\n",
       "-90 & 24 \\\\\n",
       "120 & 150903 \\\\\n",
       "129 & 452709\n",
       "\\end{array}\\right)</script></html>"
      ],
      "text/plain": [
       "[    48     23]\n",
       "[    57     69]\n",
       "[    66    207]\n",
       "[    75    621]\n",
       "[    84   1863]\n",
       "[    93   5589]\n",
       "[   102  16767]\n",
       "[   -90     24]\n",
       "[   120 150903]\n",
       "[   129 452709]"
      ]
     },
     "metadata": {},
     "output_type": "display_data"
    },
    {
     "data": {
      "text/html": [
       "<html><script type=\"math/tex; mode=display\">\\newcommand{\\Bold}[1]{\\mathbf{#1}}\\verb|checking|\\phantom{\\verb!x!}\\verb|in|\\phantom{\\verb!x!}\\verb|progress...|</script></html>"
      ],
      "text/plain": [
       "'checking in progress...'"
      ]
     },
     "metadata": {},
     "output_type": "display_data"
    },
    {
     "data": {
      "text/html": [
       "<html><script type=\"math/tex; mode=display\">\\newcommand{\\Bold}[1]{\\mathbf{#1}}\\verb|[a1,d,b1,q]=[48,|\\phantom{\\verb!x!}\\verb|9,|\\phantom{\\verb!x!}\\verb|23,|\\phantom{\\verb!x!}\\verb|3]|</script></html>"
      ],
      "text/plain": [
       "'[a1,d,b1,q]=[48, 9, 23, 3]'"
      ]
     },
     "metadata": {},
     "output_type": "display_data"
    },
    {
     "data": {
      "text/html": [
       "<html><script type=\"math/tex; mode=display\">\\newcommand{\\Bold}[1]{\\mathbf{#1}}\\left[\\verb|1->[48,|\\phantom{\\verb!x!}\\verb|23]|\\right]</script></html>"
      ],
      "text/plain": [
       "['1->[48, 23]']"
      ]
     },
     "metadata": {},
     "output_type": "display_data"
    },
    {
     "data": {
      "text/html": [
       "<html><script type=\"math/tex; mode=display\">\\newcommand{\\Bold}[1]{\\mathbf{#1}}\\left[\\verb|2->[57,|\\phantom{\\verb!x!}\\verb|69]|\\right]</script></html>"
      ],
      "text/plain": [
       "['2->[57, 69]']"
      ]
     },
     "metadata": {},
     "output_type": "display_data"
    },
    {
     "data": {
      "text/html": [
       "<html><script type=\"math/tex; mode=display\">\\newcommand{\\Bold}[1]{\\mathbf{#1}}\\left[\\verb|3->[66,|\\phantom{\\verb!x!}\\verb|207]|\\right]</script></html>"
      ],
      "text/plain": [
       "['3->[66, 207]']"
      ]
     },
     "metadata": {},
     "output_type": "display_data"
    },
    {
     "data": {
      "text/html": [
       "<html><script type=\"math/tex; mode=display\">\\newcommand{\\Bold}[1]{\\mathbf{#1}}\\left[\\verb|4->[75,|\\phantom{\\verb!x!}\\verb|621]|\\right]</script></html>"
      ],
      "text/plain": [
       "['4->[75, 621]']"
      ]
     },
     "metadata": {},
     "output_type": "display_data"
    },
    {
     "data": {
      "text/html": [
       "<html><script type=\"math/tex; mode=display\">\\newcommand{\\Bold}[1]{\\mathbf{#1}}\\left[\\verb|5->[84,|\\phantom{\\verb!x!}\\verb|1863]|\\right]</script></html>"
      ],
      "text/plain": [
       "['5->[84, 1863]']"
      ]
     },
     "metadata": {},
     "output_type": "display_data"
    },
    {
     "data": {
      "text/html": [
       "<html><script type=\"math/tex; mode=display\">\\newcommand{\\Bold}[1]{\\mathbf{#1}}\\left[\\verb|6->[93,|\\phantom{\\verb!x!}\\verb|5589]|\\right]</script></html>"
      ],
      "text/plain": [
       "['6->[93, 5589]']"
      ]
     },
     "metadata": {},
     "output_type": "display_data"
    },
    {
     "data": {
      "text/html": [
       "<html><script type=\"math/tex; mode=display\">\\newcommand{\\Bold}[1]{\\mathbf{#1}}\\left[\\verb|7->[102,|\\phantom{\\verb!x!}\\verb|16767]|\\right]</script></html>"
      ],
      "text/plain": [
       "['7->[102, 16767]']"
      ]
     },
     "metadata": {},
     "output_type": "display_data"
    },
    {
     "data": {
      "text/html": [
       "<html><script type=\"math/tex; mode=display\">\\newcommand{\\Bold}[1]{\\mathbf{#1}}\\verb|the|\\phantom{\\verb!x!}\\verb|regularity|\\phantom{\\verb!x!}\\verb|of|\\phantom{\\verb!x!}\\verb|the|\\phantom{\\verb!x!}\\verb|arithmetic|\\phantom{\\verb!x!}\\verb|progression|\\phantom{\\verb!x!}\\verb|is|\\phantom{\\verb!x!}\\verb|broken|</script></html>"
      ],
      "text/plain": [
       "'the regularity of the arithmetic progression is broken'"
      ]
     },
     "metadata": {},
     "output_type": "display_data"
    }
   ],
   "source": [
    "#21\n",
    "def create_matrix(n):\n",
    "    r1,r2=randint(2,n-1),randint(2,n-1)\n",
    "    [a1,d,b1,q]=[sample([-1,1],1)[0]*randint(1,100) for i in range(4)]\n",
    "    pretty_print('[a1,d,b1,q,r1,r2]=%s'%[a1,d,b1,q,r1,r2])\n",
    "    a=[a1+d*i for i in range(n)]; a[r1]=sample([-1,1],1)[0]*randint(1,100)\n",
    "    b=[b1*q^i for i in range(n)]; b[r2]=sample([-1,1],1)[0]*randint(1,100)\n",
    "    return Matrix([a,b]).T\n",
    "def check_matrix(a):\n",
    "    a1=a[0,0]; d=a[1,0]-a[0,0]; b1=a[0,1]; q=a[1,1]/a[0,1]\n",
    "    pretty_print('checking in progress...'); pretty_print('[a1,d,b1,q]=%s'%[a1,d,b1,q])\n",
    "    for i in range(a.dimensions()[0]-1): \n",
    "        pretty_print([str(i+1)+'->'+str([a[i,0],a[i,1]])])\n",
    "        if a[i+1,0]-a[i,0]!=d: \n",
    "            pretty_print('the regularity of the arithmetic progression is broken'); break\n",
    "        elif a[i+1,1]/a[i,1]!=q:\n",
    "            pretty_print('the regularity of the geometric progression is broken'); break\n",
    "A=create_matrix(10); pretty_print(A); check_matrix(A)"
   ]
  }
 ],
 "metadata": {
  "kernelspec": {
   "display_name": "SageMath 8.8",
   "language": "sage",
   "name": "sagemath"
  },
  "language_info": {
   "codemirror_mode": {
    "name": "ipython",
    "version": 2
   },
   "file_extension": ".py",
   "mimetype": "text/x-python",
   "name": "python",
   "nbconvert_exporter": "python",
   "pygments_lexer": "ipython2",
   "version": "2.7.15"
  }
 },
 "nbformat": 4,
 "nbformat_minor": 2
}
