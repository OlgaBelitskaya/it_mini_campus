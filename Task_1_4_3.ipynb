{
 "cells": [
  {
   "cell_type": "code",
   "execution_count": 1,
   "metadata": {},
   "outputs": [
    {
     "data": {
      "text/html": [
       "<style>\n",
       "@import url('https://fonts.googleapis.com/css?family=Orbitron');\n",
       "h1, h2 {color:#3636ff; font-size:110%; font-family:'Orbitron'; text-shadow:5px 5px 5px #aaa;}\n",
       "p, a {color:darkblue; font-size:120%; text-shadow:5px 5px 5px #aaa;}\n",
       "</style>"
      ],
      "text/plain": [
       "<IPython.core.display.HTML object>"
      ]
     },
     "metadata": {},
     "output_type": "display_data"
    }
   ],
   "source": [
    "%%html\n",
    "<style>\n",
    "@import url('https://fonts.googleapis.com/css?family=Orbitron');\n",
    "h1, h2 {color:#3636ff; font-size:110%; font-family:'Orbitron'; text-shadow:5px 5px 5px #aaa;}\n",
    "p, a {color:darkblue; font-size:120%; text-shadow:5px 5px 5px #aaa;}\n",
    "</style>"
   ]
  },
  {
   "cell_type": "markdown",
   "metadata": {},
   "source": [
    "# Processing One-Dimensional Arrays \n",
    "# for Finding Extremum Values\n",
    "Create an algorithm and a program"
   ]
  },
  {
   "cell_type": "code",
   "execution_count": 3,
   "metadata": {},
   "outputs": [
    {
     "name": "stdout",
     "output_type": "stream",
     "text": [
      "input: \n",
      "[5.84, -21.64, -0.17, -34.25, 39.84, -29.73, -4.66, -2.13, -31.14, 32.07, -33.47, 37.74, 1.71, -43.76, 24.95, -7.6, 29.96, -41.35, 7.05, 12.85]\n",
      "min absolute value: 0.17\n",
      "with matrix & list operations: 0.17\n"
     ]
    }
   ],
   "source": [
    "#1\n",
    "N=20; A=[round(random()*100-50,2) for i in [0..N-1]] \n",
    "print('input: \\n%s'%str(A))\n",
    "minabs=10**20; s='min absolute value: %.2f'\n",
    "for a in A:\n",
    "    if abs(a)<minabs: minabs=abs(a)   \n",
    "print(s%minabs)\n",
    "AA=matrix(A).apply_map(lambda x:abs(x))\n",
    "print('with matrix & list operations: %.2f'%min(AA.list()))"
   ]
  },
  {
   "cell_type": "code",
   "execution_count": 5,
   "metadata": {},
   "outputs": [
    {
     "name": "stdout",
     "output_type": "stream",
     "text": [
      "input A: \n",
      "[6.31, -38.6, 15.05, -35.33, -10.19, -25.2, 12.36, 7.17, -21.82, 41.87, -15.33, 42.66, 16.37, 46.32, -10.17, -10.49]\n",
      "max value of A: 46.32\n",
      "with list operations: 46.32\n",
      "input C: \n",
      "[-3.52, 16.18, 40.77, -38.64, -48.4, -32.46, 17.84, -40.55, -2.07, 37.51, 40.06, -22.11, -33.29, 6.57, 3.65, -1.09]\n",
      "min value of C: -48.40\n",
      "with list operations: -48.40\n"
     ]
    }
   ],
   "source": [
    "#2\n",
    "N=16; A=[round(random()*100-50,2) for i in [0..N-1]] \n",
    "C=[round(random()*100-50,2) for i in [0..N-1]]\n",
    "max_a,min_c=-10**20,10**20; s='\\nwith list operations: %.2f'\n",
    "sa='\\nmax value of A: %.2f'; sc='\\nmin value of C: %.2f'\n",
    "for i in range(N):\n",
    "    if A[i]>max_a: max_a=A[i]\n",
    "    if C[i]<min_c: min_c=C[i]\n",
    "print('input A: \\n%s'%str(A)+sa%max_a+s%max(A))\n",
    "print('input C: \\n%s'%str(C)+sc%min_c+s%min(C))"
   ]
  },
  {
   "cell_type": "code",
   "execution_count": 7,
   "metadata": {},
   "outputs": [
    {
     "name": "stdout",
     "output_type": "stream",
     "text": [
      "input: \n",
      "[3.08, -40.0, -45.67, -9.06, -14.5, -29.77, 27.96, 31.89, 22.56, -42.21, 39.78, -29.86, 2.55, -15.93, -32.91, 45.16, -13.19, -41.4, -7.61, 37.34]\n",
      "max: 45.67, min: 2.55, difference: 43.12\n",
      "with matrix & list operations\n",
      "max: 45.67, min: 2.55, difference: 43.12\n"
     ]
    }
   ],
   "source": [
    "#21\n",
    "N=20; A=[round(random()*100-50,2) for i in [0..N-1]] \n",
    "print('input: \\n%s'%str(A))\n",
    "minabs,maxabs=10**20,-10**20; s='max: %.2f, min: %.2f, difference: %.2f'\n",
    "for a in A:\n",
    "    if abs(a)<minabs: minabs=abs(a)\n",
    "    if abs(a)>maxabs: maxabs=abs(a)    \n",
    "print(s%(maxabs,minabs,maxabs-minabs))\n",
    "AA=matrix(A).apply_map(lambda x:abs(x))\n",
    "print('with matrix & list operations')\n",
    "print(s%(max(AA.list()),min(AA.list()),max(AA.list())-min(AA.list())))"
   ]
  }
 ],
 "metadata": {
  "kernelspec": {
   "display_name": "SageMath 8.8",
   "language": "sage",
   "name": "sagemath"
  },
  "language_info": {
   "codemirror_mode": {
    "name": "ipython",
    "version": 2
   },
   "file_extension": ".py",
   "mimetype": "text/x-python",
   "name": "python",
   "nbconvert_exporter": "python",
   "pygments_lexer": "ipython2",
   "version": "2.7.15"
  }
 },
 "nbformat": 4,
 "nbformat_minor": 2
}
