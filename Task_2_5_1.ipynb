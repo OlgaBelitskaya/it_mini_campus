{
 "cells": [
  {
   "cell_type": "code",
   "execution_count": 1,
   "metadata": {},
   "outputs": [
    {
     "data": {
      "text/html": [
       "<style>\n",
       "@import url('https://fonts.googleapis.com/css?family=Orbitron');\n",
       "h1, h2 {color:#3636ff; font-size:110%; font-family:'Orbitron'; text-shadow:5px 5px 5px #aaa;}\n",
       "p, a {color:darkblue; font-size:120%; text-shadow:5px 5px 5px #aaa;}\n",
       "</style>"
      ],
      "text/plain": [
       "<IPython.core.display.HTML object>"
      ]
     },
     "metadata": {},
     "output_type": "display_data"
    }
   ],
   "source": [
    "%%html\n",
    "<style>\n",
    "@import url('https://fonts.googleapis.com/css?family=Orbitron');\n",
    "h1, h2 {color:#3636ff; font-size:110%; font-family:'Orbitron'; text-shadow:5px 5px 5px #aaa;}\n",
    "p, a {color:darkblue; font-size:120%; text-shadow:5px 5px 5px #aaa;}\n",
    "</style>"
   ]
  },
  {
   "cell_type": "markdown",
   "metadata": {},
   "source": [
    "# Simple Processing of Matrices and Arrays\n",
    "Create an algorithm and a program"
   ]
  },
  {
   "cell_type": "code",
   "execution_count": 48,
   "metadata": {},
   "outputs": [
    {
     "data": {
      "image/png": "[encoded data removed]",
      "text/plain": [
       "Graphics Array of size 1 x 10"
      ]
     },
     "metadata": {},
     "output_type": "display_data"
    },
    {
     "data": {
      "text/html": [
       "<html><script type=\"math/tex; mode=display\">\\newcommand{\\Bold}[1]{\\mathbf{#1}}\\begin{array}{l}\n",
       "\\verb|The|\\phantom{\\verb!x!}\\verb|squares|\\phantom{\\verb!x!}\\verb|with|\\phantom{\\verb!x!}\\verb|sides|\\phantom{\\verb!x!}\\verb|a|\\phantom{\\verb!x!}\\verb|fits|\\phantom{\\verb!x!}\\verb|in|\\phantom{\\verb!x!}\\verb|the|\\phantom{\\verb!x!}\\verb|paired|\\phantom{\\verb!x!}\\verb|circles|\\phantom{\\verb!x!}\\verb|with|\\phantom{\\verb!x!}\\verb|radiuses|\\phantom{\\verb!x!}\\verb|R:|\\\\\n",
       "\\verb|[[17.66,|\\phantom{\\verb!x!}\\verb|52.46,|\\phantom{\\verb!x!}\\verb|6.85,|\\phantom{\\verb!x!}\\verb|25.01,|\\phantom{\\verb!x!}\\verb|9.85],|\\phantom{\\verb!x!}\\verb|5]|\n",
       "\\end{array}</script></html>"
      ],
      "text/plain": [
       "'The squares with sides a fits in the paired circles with radiuses R: \\n[[17.66, 52.46, 6.85, 25.01, 9.85], 5]'"
      ]
     },
     "metadata": {},
     "output_type": "display_data"
    },
    {
     "data": {
      "text/html": [
       "<div class=\"notruncate\">\n",
       "<table  class=\"table_form\">\n",
       "<tbody>\n",
       "<tr class =\"row-a\">\n",
       "<td>n</td>\n",
       "<td><script type=\"math/tex\">1</script></td>\n",
       "<td><script type=\"math/tex\">2</script></td>\n",
       "<td><script type=\"math/tex\">3</script></td>\n",
       "<td><script type=\"math/tex\">4</script></td>\n",
       "<td><script type=\"math/tex\">5</script></td>\n",
       "<td><script type=\"math/tex\">6</script></td>\n",
       "<td><script type=\"math/tex\">7</script></td>\n",
       "<td><script type=\"math/tex\">8</script></td>\n",
       "<td><script type=\"math/tex\">9</script></td>\n",
       "<td><script type=\"math/tex\">10</script></td>\n",
       "</tr>\n",
       "<tr class =\"row-b\">\n",
       "<td>R</td>\n",
       "<td><script type=\"math/tex\">85.2</script></td>\n",
       "<td><script type=\"math/tex\">89.71</script></td>\n",
       "<td><script type=\"math/tex\">4.9</script></td>\n",
       "<td><script type=\"math/tex\">28.08</script></td>\n",
       "<td><script type=\"math/tex\">22.57</script></td>\n",
       "<td><script type=\"math/tex\">48.93</script></td>\n",
       "<td><script type=\"math/tex\">22.1</script></td>\n",
       "<td><script type=\"math/tex\">32.39</script></td>\n",
       "<td><script type=\"math/tex\">13.52</script></td>\n",
       "<td><script type=\"math/tex\">39.6</script></td>\n",
       "</tr>\n",
       "<tr class =\"row-a\">\n",
       "<td>a</td>\n",
       "<td><script type=\"math/tex\">17.66</script></td>\n",
       "<td><script type=\"math/tex\">52.46</script></td>\n",
       "<td><script type=\"math/tex\">6.85</script></td>\n",
       "<td><script type=\"math/tex\">25.01</script></td>\n",
       "<td><script type=\"math/tex\">32.16</script></td>\n",
       "<td><script type=\"math/tex\">93.96</script></td>\n",
       "<td><script type=\"math/tex\">9.85</script></td>\n",
       "<td><script type=\"math/tex\">58.56</script></td>\n",
       "<td><script type=\"math/tex\">64.94</script></td>\n",
       "<td><script type=\"math/tex\">95.39</script></td>\n",
       "</tr>\n",
       "<tr class =\"row-b\">\n",
       "<td>a/√2≤R</td>\n",
       "<td><script type=\"math/tex\">\\mathrm{True}</script></td>\n",
       "<td><script type=\"math/tex\">\\mathrm{True}</script></td>\n",
       "<td><script type=\"math/tex\">\\mathrm{True}</script></td>\n",
       "<td><script type=\"math/tex\">\\mathrm{True}</script></td>\n",
       "<td><script type=\"math/tex\">\\mathrm{False}</script></td>\n",
       "<td><script type=\"math/tex\">\\mathrm{False}</script></td>\n",
       "<td><script type=\"math/tex\">\\mathrm{True}</script></td>\n",
       "<td><script type=\"math/tex\">\\mathrm{False}</script></td>\n",
       "<td><script type=\"math/tex\">\\mathrm{False}</script></td>\n",
       "<td><script type=\"math/tex\">\\mathrm{False}</script></td>\n",
       "</tr>\n",
       "</tbody>\n",
       "</table>\n",
       "</div>"
      ],
      "text/plain": [
       "  n            1       2       3      4       5       6       7      8       9       10\n",
       "  R            85.2    89.71   4.9    28.08   22.57   48.93   22.1   32.39   13.52   39.6\n",
       "  a            17.66   52.46   6.85   25.01   32.16   93.96   9.85   58.56   64.94   95.39\n",
       "  a/√2≤R   True    True    True   True    False   False   True   False   False   False"
      ]
     },
     "execution_count": 48,
     "metadata": {},
     "output_type": "execute_result"
    }
   ],
   "source": [
    "#21\n",
    "ra=[[round(100*random(),2) for i in range(10)] for j in range(2)]\n",
    "b=[bool(ra[0][i]>=ra[1][i]/sqrt(2)) for i in range(10)]\n",
    "ba=[]; [ba.append(ra[1][i]) for i in range(10) if b[i]==True]\n",
    "t=[['n']+range(1,11)]+[['R']+ra[0]]+[['a']+ra[1]]+[['a/√2≤R']+b]\n",
    "pc=[[[ra[1][i]*x/2 for x in el] for el in [[-1,-1],[-1,1],[1,1],[1,-1]]] for i in range(10)]\n",
    "gr=[(circle((0,0),ra[0][i])+polygon(pc[i],alpha=.5)+\\\n",
    "     text(str(i+1),(0,0),fontsize=20,color='silver')) for i in range(10)]\n",
    "graphics_array([gr[i] for i in range(10)]).show(figsize=8,axes=False)\n",
    "s='The squares with sides a fits in the paired circles with radiuses R: \\n'\n",
    "pretty_print(s+str([ba,sum(b)])); table(t)"
   ]
  }
 ],
 "metadata": {
  "kernelspec": {
   "display_name": "SageMath 8.8",
   "language": "sage",
   "name": "sagemath"
  },
  "language_info": {
   "codemirror_mode": {
    "name": "ipython",
    "version": 2
   },
   "file_extension": ".py",
   "mimetype": "text/x-python",
   "name": "python",
   "nbconvert_exporter": "python",
   "pygments_lexer": "ipython2",
   "version": "2.7.15"
  }
 },
 "nbformat": 4,
 "nbformat_minor": 2
}
