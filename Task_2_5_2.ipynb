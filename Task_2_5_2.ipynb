{
 "cells": [
  {
   "cell_type": "code",
   "execution_count": 1,
   "metadata": {},
   "outputs": [
    {
     "data": {
      "text/html": [
       "<style>\n",
       "@import url('https://fonts.googleapis.com/css?family=Orbitron');\n",
       "h1, h2 {color:#3636ff; font-size:110%; font-family:'Orbitron'; text-shadow:5px 5px 5px #aaa;}\n",
       "p, a {color:darkblue; font-size:120%; text-shadow:5px 5px 5px #aaa;}\n",
       "</style>"
      ],
      "text/plain": [
       "<IPython.core.display.HTML object>"
      ]
     },
     "metadata": {},
     "output_type": "display_data"
    }
   ],
   "source": [
    "%%html\n",
    "<style>\n",
    "@import url('https://fonts.googleapis.com/css?family=Orbitron');\n",
    "h1, h2 {color:#3636ff; font-size:110%; font-family:'Orbitron'; text-shadow:5px 5px 5px #aaa;}\n",
    "p, a {color:darkblue; font-size:120%; text-shadow:5px 5px 5px #aaa;}\n",
    "</style>"
   ]
  },
  {
   "cell_type": "markdown",
   "metadata": {},
   "source": [
    "#  Processing of Matrices and Arrays with Variable Dimensions\n",
    "Create an algorithm and a program"
   ]
  },
  {
   "cell_type": "code",
   "execution_count": 2,
   "metadata": {},
   "outputs": [
    {
     "data": {
      "text/html": [
       "<html><script type=\"math/tex; mode=display\">\\newcommand{\\Bold}[1]{\\mathbf{#1}}\\left(\\begin{array}{rrrrrrrrrr}\n",
       "20 & -15 & -7 & -22 & -81 & 10 & -55 & 62 & -84 & 15 \\\\\n",
       "80 & 14 & 54 & 93 & 81 & 91 & -10 & -34 & -1 & 21 \\\\\n",
       "8 & -47 & 66 & 38 & 3 & 32 & 59 & 76 & 69 & -30 \\\\\n",
       "95 & -21 & 7 & -59 & -45 & -97 & -27 & 58 & -89 & -90 \\\\\n",
       "2 & 46 & 63 & 7 & -73 & -53 & 62 & -15 & 70 & -16 \\\\\n",
       "-73 & -1 & -96 & 93 & 45 & 4 & 20 & 7 & -92 & 67 \\\\\n",
       "-75 & 1 & -97 & -58 & -8 & -97 & 44 & 22 & -3 & 63 \\\\\n",
       "-58 & 45 & -64 & 0 & 70 & 91 & -12 & 60 & 27 & 40 \\\\\n",
       "20 & 25 & -16 & -26 & -33 & 13 & -65 & 79 & -88 & -24 \\\\\n",
       "-44 & -79 & 3 & -35 & 52 & 50 & 57 & 74 & 34 & -54\n",
       "\\end{array}\\right)</script></html>"
      ],
      "text/plain": [
       "[ 20 -15  -7 -22 -81  10 -55  62 -84  15]\n",
       "[ 80  14  54  93  81  91 -10 -34  -1  21]\n",
       "[  8 -47  66  38   3  32  59  76  69 -30]\n",
       "[ 95 -21   7 -59 -45 -97 -27  58 -89 -90]\n",
       "[  2  46  63   7 -73 -53  62 -15  70 -16]\n",
       "[-73  -1 -96  93  45   4  20   7 -92  67]\n",
       "[-75   1 -97 -58  -8 -97  44  22  -3  63]\n",
       "[-58  45 -64   0  70  91 -12  60  27  40]\n",
       "[ 20  25 -16 -26 -33  13 -65  79 -88 -24]\n",
       "[-44 -79   3 -35  52  50  57  74  34 -54]"
      ]
     },
     "metadata": {},
     "output_type": "display_data"
    },
    {
     "data": {
      "text/html": [
       "<html><script type=\"math/tex; mode=display\">\\newcommand{\\Bold}[1]{\\mathbf{#1}}\\verb|constant,|\\phantom{\\verb!x!}\\verb|resulting|\\phantom{\\verb!x!}\\verb|array|\\phantom{\\verb!x!}\\verb|and|\\phantom{\\verb!x!}\\verb|element|\\phantom{\\verb!x!}\\verb|quantity:|\\phantom{\\verb!x!}\\verb|[90,|\\phantom{\\verb!x!}\\verb|[1,|\\phantom{\\verb!x!}\\verb|0,|\\phantom{\\verb!x!}\\verb|0,|\\phantom{\\verb!x!}\\verb|1,|\\phantom{\\verb!x!}\\verb|0,|\\phantom{\\verb!x!}\\verb|1,|\\phantom{\\verb!x!}\\verb|0,|\\phantom{\\verb!x!}\\verb|0,|\\phantom{\\verb!x!}\\verb|0,|\\phantom{\\verb!x!}\\verb|0],|\\phantom{\\verb!x!}\\verb|5]|</script></html>"
      ],
      "text/plain": [
       "'constant, resulting array and element quantity: [90, [1, 0, 0, 1, 0, 1, 0, 0, 0, 0], 5]'"
      ]
     },
     "metadata": {},
     "output_type": "display_data"
    }
   ],
   "source": [
    "#21\n",
    "N=10; C=90; M=random_matrix(ZZ,N,x=-100,y=100); pretty_print(M)\n",
    "def check_matrix(m,c,n):\n",
    "    x=[]; s=0\n",
    "    for j in range(n):\n",
    "        sj=sum([m[i,j]>c for i in range(n)])\n",
    "        s+=sj; x.append(int(sj!=0))\n",
    "    return x,s\n",
    "X,S=check_matrix(M,C,N)\n",
    "pretty_print('constant, resulting array and element quantity: '+str([C,X,S]))"
   ]
  },
  {
   "cell_type": "code",
   "execution_count": 3,
   "metadata": {},
   "outputs": [
    {
     "data": {
      "text/html": [
       "<html><script type=\"math/tex; mode=display\">\\newcommand{\\Bold}[1]{\\mathbf{#1}}\\left(\\begin{array}{rrrrr}\n",
       "1 & -2 & -1 & \\frac{1}{2} & -1 \\\\\n",
       "-2 & 0 & -2 & -1 & 1 \\\\\n",
       "2 & 0 & 0 & 1 & 0 \\\\\n",
       "1 & -2 & \\frac{1}{2} & 1 & -1 \\\\\n",
       "0 & -1 & 0 & -2 & 0\n",
       "\\end{array}\\right)</script></html>"
      ],
      "text/plain": [
       "[  1  -2  -1 1/2  -1]\n",
       "[ -2   0  -2  -1   1]\n",
       "[  2   0   0   1   0]\n",
       "[  1  -2 1/2   1  -1]\n",
       "[  0  -1   0  -2   0]"
      ]
     },
     "metadata": {},
     "output_type": "display_data"
    },
    {
     "data": {
      "text/html": [
       "<html><script type=\"math/tex; mode=display\">\\newcommand{\\Bold}[1]{\\mathbf{#1}}\\verb|sum|\\phantom{\\verb!x!}\\verb|of|\\phantom{\\verb!x!}\\verb|elements|\\phantom{\\verb!x!}\\verb|on|\\phantom{\\verb!x!}\\verb|the|\\phantom{\\verb!x!}\\verb|main|\\phantom{\\verb!x!}\\verb|diagonal:|\\phantom{\\verb!x!}\\verb|2|</script></html>"
      ],
      "text/plain": [
       "'sum of elements on the main diagonal: 2'"
      ]
     },
     "metadata": {},
     "output_type": "display_data"
    },
    {
     "data": {
      "text/html": [
       "<html><script type=\"math/tex; mode=display\">\\newcommand{\\Bold}[1]{\\mathbf{#1}}\\left(\\begin{array}{rrrrr}\n",
       "1 & -2 & -1 & \\frac{1}{2} & -1 \\\\\n",
       "-2 & 0 & -2 & -1 & 1 \\\\\n",
       "\\frac{1}{2} & -1 & 0 & 1 & 0 \\\\\n",
       "\\frac{3}{4} & -2 & \\frac{1}{2} & 1 & -1 \\\\\n",
       "-\\frac{1}{2} & -1 & 0 & -2 & 0\n",
       "\\end{array}\\right)</script></html>"
      ],
      "text/plain": [
       "[   1   -2   -1  1/2   -1]\n",
       "[  -2    0   -2   -1    1]\n",
       "[ 1/2   -1    0    1    0]\n",
       "[ 3/4   -2  1/2    1   -1]\n",
       "[-1/2   -1    0   -2    0]"
      ]
     },
     "metadata": {},
     "output_type": "display_data"
    }
   ],
   "source": [
    "#22\n",
    "N=5; S=0; A=random_matrix(QQ,N,N); pretty_print(A)\n",
    "for i in range(N):\n",
    "    for j in range(N):\n",
    "        if i>j and A[i,j]>A[j,i]: A[i,j]=(A[i,j]+A[j,i])/2\n",
    "        if i==j: S+=A[i,j]\n",
    "pretty_print('sum of elements on the main diagonal: %s'%str(S)); pretty_print(A)"
   ]
  }
 ],
 "metadata": {
  "kernelspec": {
   "display_name": "SageMath 8.8",
   "language": "sage",
   "name": "sagemath"
  },
  "language_info": {
   "codemirror_mode": {
    "name": "ipython",
    "version": 2
   },
   "file_extension": ".py",
   "mimetype": "text/x-python",
   "name": "python",
   "nbconvert_exporter": "python",
   "pygments_lexer": "ipython2",
   "version": "2.7.15"
  }
 },
 "nbformat": 4,
 "nbformat_minor": 2
}
